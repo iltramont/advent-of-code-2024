{
 "cells": [
  {
   "cell_type": "markdown",
   "metadata": {
    "id": "9O0pS1wnObMP"
   },
   "source": [
    "problem: https://adventofcode.com/2024/day/4"
   ]
  },
  {
   "cell_type": "code",
   "execution_count": 2,
   "metadata": {
    "executionInfo": {
     "elapsed": 848,
     "status": "ok",
     "timestamp": 1733992061575,
     "user": {
      "displayName": "luca tramonti",
      "userId": "04545773391778520589"
     },
     "user_tz": -60
    },
    "id": "7LoYb1IfOKpl"
   },
   "outputs": [],
   "source": [
    "import numpy as np\n",
    "import os"
   ]
  },
  {
   "cell_type": "code",
   "execution_count": 3,
   "metadata": {
    "executionInfo": {
     "elapsed": 221,
     "status": "ok",
     "timestamp": 1733992092141,
     "user": {
      "displayName": "luca tramonti",
      "userId": "04545773391778520589"
     },
     "user_tz": -60
    },
    "id": "SBTs7epYOXQ-"
   },
   "outputs": [],
   "source": [
    "problem_number = 4\n",
    "path = os.path.join('..', 'data', f'problem{problem_number}_data.txt')\n",
    "rows = []\n",
    "with open(path, 'r') as file:\n",
    "  for row in file:\n",
    "    rows.append(row.strip())    "
   ]
  },
  {
   "cell_type": "code",
   "execution_count": 4,
   "metadata": {
    "colab": {
     "base_uri": "https://localhost:8080/"
    },
    "executionInfo": {
     "elapsed": 313,
     "status": "ok",
     "timestamp": 1733995376635,
     "user": {
      "displayName": "luca tramonti",
      "userId": "04545773391778520589"
     },
     "user_tz": -60
    },
    "id": "mNVWwV_tO18n",
    "outputId": "d6b8ff95-9d27-41e3-9086-89a08bac0c47"
   },
   "outputs": [
    {
     "name": "stdout",
     "output_type": "stream",
     "text": [
      "[['S' 'X' 'M' ... 'M' 'M' 'M']\n",
      " ['S' 'A' 'M' ... 'A' 'A' 'X']\n",
      " ['M' 'A' 'M' ... 'X' 'M' 'S']\n",
      " ...\n",
      " ['X' 'M' 'S' ... 'A' 'M' 'A']\n",
      " ['S' 'A' 'M' ... 'S' 'S' 'S']\n",
      " ['A' 'M' 'S' ... 'M' 'X' 'X']]\n",
      "data.shape = (140, 140)\n"
     ]
    }
   ],
   "source": [
    "data = np.array([np.array(list(row)) for row in rows])\n",
    "print(data)\n",
    "print(f'{data.shape = }')"
   ]
  },
  {
   "cell_type": "markdown",
   "metadata": {
    "id": "n1Zyn9sRp-Oy"
   },
   "source": [
    "**Part 1**"
   ]
  },
  {
   "cell_type": "code",
   "execution_count": 5,
   "metadata": {
    "executionInfo": {
     "elapsed": 308,
     "status": "ok",
     "timestamp": 1734002479000,
     "user": {
      "displayName": "luca tramonti",
      "userId": "04545773391778520589"
     },
     "user_tz": -60
    },
    "id": "7bbeIfBeQ5w_"
   },
   "outputs": [],
   "source": [
    "def get_string(data, start: tuple[int], direction: tuple[int], length: int) -> str | bool:\n",
    "    result = []\n",
    "    shape = data.shape\n",
    "    p = np.array(start)\n",
    "    v = np.array(direction)\n",
    "    final_point = p + (length-1)*v\n",
    "    if final_point[0] < 0 or final_point[1] < 0 or final_point[0] >= shape[0] or final_point[1] >= shape[1]:\n",
    "        return False\n",
    "    for i in range(length):\n",
    "        x = p + i*v\n",
    "        result.append(data[x[0], x[1]])\n",
    "    return ''.join(result)"
   ]
  },
  {
   "cell_type": "code",
   "execution_count": 6,
   "metadata": {
    "colab": {
     "base_uri": "https://localhost:8080/"
    },
    "executionInfo": {
     "elapsed": 7,
     "status": "ok",
     "timestamp": 1734002479952,
     "user": {
      "displayName": "luca tramonti",
      "userId": "04545773391778520589"
     },
     "user_tz": -60
    },
    "id": "I56yUH5REqGL",
    "outputId": "b655004e-ecdc-4c4a-c1da-4a4476ea7c16"
   },
   "outputs": [
    {
     "name": "stdout",
     "output_type": "stream",
     "text": [
      "directions = [(0, 1), (0, -1), (1, 0), (1, 1), (1, -1), (-1, 0), (-1, 1), (-1, -1)]\n"
     ]
    }
   ],
   "source": [
    "directions = []\n",
    "for i in (0, 1, -1):\n",
    "    for j in (0, 1, -1):\n",
    "        if (i, j) != (0, 0):\n",
    "            directions.append((i, j))\n",
    "print(f'{directions = }')"
   ]
  },
  {
   "cell_type": "code",
   "execution_count": 7,
   "metadata": {
    "executionInfo": {
     "elapsed": 227,
     "status": "ok",
     "timestamp": 1734002678269,
     "user": {
      "displayName": "luca tramonti",
      "userId": "04545773391778520589"
     },
     "user_tz": -60
    },
    "id": "TNYakcOGPkZI"
   },
   "outputs": [],
   "source": [
    "def count_xmas(data, point: tuple[int], directions_list: list[tuple[int]]) -> int:\n",
    "    result = 0\n",
    "    for direction in directions_list:\n",
    "        x = get_string(data, point, direction, 4)\n",
    "        if x == 'XMAS':\n",
    "            result += 1\n",
    "    return result"
   ]
  },
  {
   "cell_type": "code",
   "execution_count": 8,
   "metadata": {
    "colab": {
     "base_uri": "https://localhost:8080/"
    },
    "executionInfo": {
     "elapsed": 2658,
     "status": "ok",
     "timestamp": 1734003287302,
     "user": {
      "displayName": "luca tramonti",
      "userId": "04545773391778520589"
     },
     "user_tz": -60
    },
    "id": "M9oDKgioHEKC",
    "outputId": "0f2cd5b9-3d4d-40d3-8037-a25a5a8026f2"
   },
   "outputs": [
    {
     "name": "stdout",
     "output_type": "stream",
     "text": [
      "solution = 2454\n"
     ]
    }
   ],
   "source": [
    "solution = 0\n",
    "for i in range(data.shape[0]):\n",
    "    for j in range(data.shape[1]):\n",
    "        solution = solution + count_xmas(data, (i, j), directions)\n",
    "print(f'{solution = }')"
   ]
  },
  {
   "cell_type": "markdown",
   "metadata": {
    "id": "E0YfrollqIFF"
   },
   "source": [
    "**Part 2**"
   ]
  },
  {
   "cell_type": "code",
   "execution_count": 9,
   "metadata": {
    "executionInfo": {
     "elapsed": 731,
     "status": "ok",
     "timestamp": 1734005367243,
     "user": {
      "displayName": "luca tramonti",
      "userId": "04545773391778520589"
     },
     "user_tz": -60
    },
    "id": "9QtJkuxAnqlD"
   },
   "outputs": [],
   "source": [
    "def check_x_mas(data, p: tuple[int]):\n",
    "    d1 = []\n",
    "    d2 = []\n",
    "    d1.append(data[p[0]-1, p[1]-1])\n",
    "    d1.append(data[p])\n",
    "    d1.append(data[p[0]+1, p[1]+1])\n",
    "    d2.append(data[p[0]-1, p[1]+1])\n",
    "    d2.append(data[p])\n",
    "    d2.append(data[p[0]+1, p[1]-1])\n",
    "    d1 = ''.join(d1)\n",
    "    d2 = ''.join(d2)\n",
    "    if d1 in ('MAS', 'SAM') and d2 in ('MAS', 'SAM'):\n",
    "        return True\n",
    "    else:\n",
    "        return False\n",
    "    \n",
    "    \n",
    "def find_x_mas(data):\n",
    "    result = 0\n",
    "    for i in range(1, data.shape[0]-1):\n",
    "        for j in range(1, data.shape[1]-1):\n",
    "            if check_x_mas(data, (i, j)):\n",
    "                result += 1\n",
    "    return result"
   ]
  },
  {
   "cell_type": "code",
   "execution_count": 10,
   "metadata": {
    "colab": {
     "base_uri": "https://localhost:8080/"
    },
    "executionInfo": {
     "elapsed": 197,
     "status": "ok",
     "timestamp": 1734005647488,
     "user": {
      "displayName": "luca tramonti",
      "userId": "04545773391778520589"
     },
     "user_tz": -60
    },
    "id": "D3qJX4f1utRF",
    "outputId": "f33d753a-9043-47ef-d652-5587938f6a89"
   },
   "outputs": [
    {
     "name": "stdout",
     "output_type": "stream",
     "text": [
      "solution = 1858\n"
     ]
    }
   ],
   "source": [
    "solution = find_x_mas(data)\n",
    "print(f'{solution = }')"
   ]
  },
  {
   "cell_type": "code",
   "execution_count": null,
   "metadata": {
    "id": "0ncXHdbiuvqg"
   },
   "outputs": [],
   "source": []
  }
 ],
 "metadata": {
  "colab": {
   "authorship_tag": "ABX9TyOEq0uEQbx5fFCf+qHo6rgZ",
   "provenance": []
  },
  "kernelspec": {
   "display_name": ".venv",
   "language": "python",
   "name": "python3"
  },
  "language_info": {
   "codemirror_mode": {
    "name": "ipython",
    "version": 3
   },
   "file_extension": ".py",
   "mimetype": "text/x-python",
   "name": "python",
   "nbconvert_exporter": "python",
   "pygments_lexer": "ipython3",
   "version": "3.13.1"
  }
 },
 "nbformat": 4,
 "nbformat_minor": 0
}
