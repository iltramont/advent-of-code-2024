{
  "cells": [
    {
      "cell_type": "markdown",
      "metadata": {
        "id": "tv4QXmzN1XY7"
      },
      "source": [
        "problem: https://adventofcode.com/2024/day/13"
      ]
    },
    {
      "cell_type": "code",
      "execution_count": 3,
      "metadata": {
        "id": "m5BtrEjA5Dr_"
      },
      "outputs": [],
      "source": [
        "import numpy as np\n",
        "import os\n",
        "\n",
        "BUTTON_COST = {\n",
        "    'a': 3,\n",
        "    'b': 1\n",
        "}"
      ]
    },
    {
      "cell_type": "code",
      "execution_count": 4,
      "metadata": {
        "id": "dKPXiQbi1U-S"
      },
      "outputs": [],
      "source": [
        "data = []\n",
        "\n",
        "problem_number = 13\n",
        "path = os.path.join('..', 'data', f'problem{problem_number}_data.txt')\n",
        "with open(path, 'r') as file:\n",
        "    game = []\n",
        "    for row in file:\n",
        "        row = row.strip()\n",
        "        if row.startswith('Button A:'):\n",
        "            game.append(row[10:].split(','))\n",
        "        elif row.startswith('Button B:'):\n",
        "            game.append(row[10:].split(','))\n",
        "        elif row.startswith('Prize:'):\n",
        "            game.append(row[7:].split(','))\n",
        "            data.append(game)\n",
        "        else:\n",
        "            game = []\n",
        "\n",
        "games = []\n",
        "for g in data:\n",
        "    g[0] = np.array((g[0][0][2:], g[0][1].strip()[2:]), dtype=int)\n",
        "    g[1] = np.array((g[1][0][2:], g[1][1].strip()[2:]), dtype=int)\n",
        "    g[2] = np.array((g[2][0][2:], g[2][1].strip()[2:]), dtype=int)\n",
        "    games.append({\n",
        "        'a': g[0],\n",
        "        'b': g[1],\n",
        "        'target': g[2]\n",
        "    })"
      ]
    },
    {
      "cell_type": "code",
      "execution_count": 5,
      "metadata": {
        "id": "6cYuLLtAS0Kc"
      },
      "outputs": [],
      "source": [
        "for g in games:\n",
        "    M = np.array([g['a'], g['b']]).T\n",
        "    if np.linalg.det(M) == 0:\n",
        "        print(g)\n",
        "        break"
      ]
    },
    {
      "cell_type": "code",
      "execution_count": 6,
      "metadata": {
        "colab": {
          "base_uri": "https://localhost:8080/"
        },
        "id": "f6z6TRhPVUHQ",
        "outputId": "d3198047-c936-4a6b-979e-70a5fdb2aaa5"
      },
      "outputs": [
        {
          "name": "stdout",
          "output_type": "stream",
          "text": [
            "price = array([3, 1])\n",
            "Solution = 38714\n"
          ]
        }
      ],
      "source": [
        "result = 0\n",
        "price = np.array((BUTTON_COST['a'], BUTTON_COST['b']))\n",
        "print(f'{price = }')\n",
        "for g in games:\n",
        "    M = np.array([g['a'], g['b']]).T\n",
        "    target = g['target']\n",
        "    solution = np.linalg.inv(M) @ target\n",
        "    x, y = round(solution[0]), round(solution[1])\n",
        "    rounded = np.array((x, y))\n",
        "    if x * g['a'][0] + y * g['b'][0] == g['target'][0] and x * g['a'][1] + y * g['b'][1] == g['target'][1]:\n",
        "        result = result + rounded.dot(price)\n",
        "\n",
        "print(f'Solution = {result}')"
      ]
    },
    {
      "cell_type": "markdown",
      "metadata": {
        "id": "wKmUI4mP09C5"
      },
      "source": [
        "**Part 2**"
      ]
    },
    {
      "cell_type": "code",
      "execution_count": 7,
      "metadata": {
        "id": "FkllrxwzYllB"
      },
      "outputs": [],
      "source": [
        "error = np.array((10_000_000_000_000, 10_000_000_000_000))\n",
        "\n",
        "for g in games:\n",
        "    g['target'] = g['target'] + error"
      ]
    },
    {
      "cell_type": "code",
      "execution_count": 8,
      "metadata": {
        "id": "6pJ2kt-S1qD0"
      },
      "outputs": [],
      "source": [
        "for g in games:\n",
        "    M = np.array([g['a'], g['b']]).T\n",
        "    if np.linalg.det(M) == 0:\n",
        "        print(g)\n",
        "        break"
      ]
    },
    {
      "cell_type": "code",
      "execution_count": 9,
      "metadata": {
        "colab": {
          "base_uri": "https://localhost:8080/"
        },
        "id": "rSw4oo_V1vU4",
        "outputId": "48b5068f-9504-48e9-d18c-a8bfa3ef96f8"
      },
      "outputs": [
        {
          "name": "stdout",
          "output_type": "stream",
          "text": [
            "price = array([3, 1])\n",
            "Solution = 74015623345775\n"
          ]
        }
      ],
      "source": [
        "result = 0\n",
        "price = np.array((BUTTON_COST['a'], BUTTON_COST['b']))\n",
        "print(f'{price = }')\n",
        "for g in games:\n",
        "    M = np.array([g['a'], g['b']]).T\n",
        "    target = g['target']\n",
        "    solution = np.linalg.inv(M) @ target\n",
        "    x, y = round(solution[0]), round(solution[1])\n",
        "    rounded = np.array((x, y))\n",
        "    if x * g['a'][0] + y * g['b'][0] == g['target'][0] and x * g['a'][1] + y * g['b'][1] == g['target'][1]:\n",
        "        result = result + rounded.dot(price)\n",
        "\n",
        "print(f'Solution = {result}')"
      ]
    },
    {
      "cell_type": "code",
      "execution_count": null,
      "metadata": {
        "id": "GE6r15LN1ycL"
      },
      "outputs": [],
      "source": []
    }
  ],
  "metadata": {
    "colab": {
      "provenance": []
    },
    "kernelspec": {
      "display_name": ".venv",
      "language": "python",
      "name": "python3"
    },
    "language_info": {
      "codemirror_mode": {
        "name": "ipython",
        "version": 3
      },
      "file_extension": ".py",
      "mimetype": "text/x-python",
      "name": "python",
      "nbconvert_exporter": "python",
      "pygments_lexer": "ipython3",
      "version": "3.13.1"
    }
  },
  "nbformat": 4,
  "nbformat_minor": 0
}
