{
 "cells": [
  {
   "cell_type": "markdown",
   "metadata": {
    "id": "LQ1TSqIPiDtU"
   },
   "source": [
    "problem: https://adventofcode.com/2024/day/10"
   ]
  },
  {
   "cell_type": "code",
   "execution_count": 1,
   "metadata": {
    "executionInfo": {
     "elapsed": 375,
     "status": "ok",
     "timestamp": 1734784324978,
     "user": {
      "displayName": "luca tramonti",
      "userId": "04545773391778520589"
     },
     "user_tz": -60
    },
    "id": "j5Cy0fAGh6Tw"
   },
   "outputs": [],
   "source": [
    "import numpy as np\n",
    "import os\n",
    "\n",
    "DIRECTIONS = (\n",
    "    (1, 0),\n",
    "    (0, 1),\n",
    "    (-1, 0),\n",
    "    (0, -1)\n",
    ")"
   ]
  },
  {
   "cell_type": "code",
   "execution_count": 2,
   "metadata": {
    "executionInfo": {
     "elapsed": 2,
     "status": "ok",
     "timestamp": 1734784325406,
     "user": {
      "displayName": "luca tramonti",
      "userId": "04545773391778520589"
     },
     "user_tz": -60
    },
    "id": "ZQKX5e9-iUV7"
   },
   "outputs": [],
   "source": [
    "rows = []\n",
    "problem_number = 10\n",
    "path = os.path.join('..', 'data', f'problem{problem_number}_data.txt')\n",
    "with open(path, 'r') as file:\n",
    "  for row in file:\n",
    "    rows.append(list(row.strip()))\n",
    "data = np.array(rows, dtype=int)"
   ]
  },
  {
   "cell_type": "code",
   "execution_count": 3,
   "metadata": {
    "colab": {
     "base_uri": "https://localhost:8080/"
    },
    "executionInfo": {
     "elapsed": 284,
     "status": "ok",
     "timestamp": 1734784329370,
     "user": {
      "displayName": "luca tramonti",
      "userId": "04545773391778520589"
     },
     "user_tz": -60
    },
    "id": "OezFUqX2ibmO",
    "outputId": "5a8b90d4-35e5-45a3-fa77-896d12643a38"
   },
   "outputs": [
    {
     "data": {
      "text/plain": [
       "array([[6, 5, 4, ..., 7, 6, 5],\n",
       "       [7, 6, 3, ..., 8, 7, 6],\n",
       "       [8, 7, 8, ..., 9, 6, 5],\n",
       "       ...,\n",
       "       [0, 1, 1, ..., 4, 1, 0],\n",
       "       [3, 2, 2, ..., 3, 2, 3],\n",
       "       [4, 3, 3, ..., 4, 1, 0]], shape=(46, 46))"
      ]
     },
     "execution_count": 3,
     "metadata": {},
     "output_type": "execute_result"
    }
   ],
   "source": [
    "data"
   ]
  },
  {
   "cell_type": "markdown",
   "metadata": {
    "id": "pbNhy0BuiMNg"
   },
   "source": [
    "**Part 1**"
   ]
  },
  {
   "cell_type": "code",
   "execution_count": 4,
   "metadata": {
    "executionInfo": {
     "elapsed": 2,
     "status": "ok",
     "timestamp": 1734784329763,
     "user": {
      "displayName": "luca tramonti",
      "userId": "04545773391778520589"
     },
     "user_tz": -60
    },
    "id": "0bhTLcyBidaH"
   },
   "outputs": [],
   "source": [
    "def position_is_in_range(map, start, end):\n",
    "    distance = abs(start[0] - end[0]) + abs(start[1] - end[1])\n",
    "    return map[end] - map[start] >= distance\n",
    "\n",
    "def add_tuples(x, y) -> tuple:\n",
    "    return (x[0] + y[0], x[1] + y[1])\n",
    "\n",
    "def path_is_valid(map, start, end, directions=DIRECTIONS):\n",
    "    if not position_is_in_range(map, start, end):\n",
    "        return False\n",
    "    distance = abs(start[0] - end[0]) + abs(start[1] - end[1])\n",
    "    s = map[start]\n",
    "    e = map[end]\n",
    "    if distance == 1 and e - s == 1:\n",
    "        return True\n",
    "    else:\n",
    "        for direction in directions:\n",
    "            next_position = add_tuples(start, direction)\n",
    "            if next_position == end or next_position[0] < 0 or next_position[1] < 0 or next_position[0] >= map.shape[0] or next_position[1] >= map.shape[1]:\n",
    "                continue\n",
    "            next_value = map[next_position]\n",
    "            if next_value == s + 1:\n",
    "                if position_is_in_range(map, next_position, end):\n",
    "                    if path_is_valid(map, next_position, end, directions=directions):\n",
    "                        return True\n",
    "                else:\n",
    "                    continue\n",
    "        return False"
   ]
  },
  {
   "cell_type": "code",
   "execution_count": 5,
   "metadata": {
    "executionInfo": {
     "elapsed": 259,
     "status": "ok",
     "timestamp": 1734784331265,
     "user": {
      "displayName": "luca tramonti",
      "userId": "04545773391778520589"
     },
     "user_tz": -60
    },
    "id": "TiV-l1hDkfx0"
   },
   "outputs": [],
   "source": [
    "zeros = []\n",
    "nines = []\n",
    "for i in range(data.shape[0]):\n",
    "    for j in range(data.shape[1]):\n",
    "        if data[(i, j)] == 0:\n",
    "            zeros.append((i, j))\n",
    "        elif data[(i, j)] == 9:\n",
    "            nines.append((i, j))"
   ]
  },
  {
   "cell_type": "code",
   "execution_count": 6,
   "metadata": {
    "colab": {
     "base_uri": "https://localhost:8080/"
    },
    "executionInfo": {
     "elapsed": 290,
     "status": "ok",
     "timestamp": 1734784332281,
     "user": {
      "displayName": "luca tramonti",
      "userId": "04545773391778520589"
     },
     "user_tz": -60
    },
    "id": "TCJbA28Nkkfh",
    "outputId": "7a554edb-c65b-4264-d022-e9e0cbb68aec"
   },
   "outputs": [
    {
     "name": "stdout",
     "output_type": "stream",
     "text": [
      "solution = 587\n"
     ]
    }
   ],
   "source": [
    "solution = 0\n",
    "for zero in zeros:\n",
    "    for nine in nines:\n",
    "        if path_is_valid(data, zero, nine):\n",
    "            solution += 1\n",
    "print(f'{solution = }')"
   ]
  },
  {
   "cell_type": "markdown",
   "metadata": {
    "id": "iCwvs1K4MJv_"
   },
   "source": [
    "**Part 2**"
   ]
  },
  {
   "cell_type": "code",
   "execution_count": 7,
   "metadata": {
    "executionInfo": {
     "elapsed": 5,
     "status": "ok",
     "timestamp": 1734786410143,
     "user": {
      "displayName": "luca tramonti",
      "userId": "04545773391778520589"
     },
     "user_tz": -60
    },
    "id": "IrUF8I30k2O-"
   },
   "outputs": [],
   "source": [
    "def path_score(map, start, end, directions=DIRECTIONS):\n",
    "    if not position_is_in_range(map, start, end):\n",
    "        return 0\n",
    "    distance = abs(start[0] - end[0]) + abs(start[1] - end[1])\n",
    "    s = map[start]\n",
    "    e = map[end]\n",
    "    if distance == 1 and e - s == 1:\n",
    "        return 1\n",
    "    else:\n",
    "        result = 0\n",
    "        for direction in directions:\n",
    "            next_position = add_tuples(start, direction)\n",
    "            if next_position == end or next_position[0] < 0 or next_position[1] < 0 or next_position[0] >= map.shape[0] or next_position[1] >= map.shape[1]:\n",
    "                continue\n",
    "            next_value = map[next_position]\n",
    "            if next_value == s + 1:\n",
    "                if position_is_in_range(map, next_position, end):\n",
    "                    result = result + path_score(map, next_position, end)\n",
    "        return result"
   ]
  },
  {
   "cell_type": "code",
   "execution_count": 8,
   "metadata": {
    "colab": {
     "base_uri": "https://localhost:8080/"
    },
    "executionInfo": {
     "elapsed": 289,
     "status": "ok",
     "timestamp": 1734786520414,
     "user": {
      "displayName": "luca tramonti",
      "userId": "04545773391778520589"
     },
     "user_tz": -60
    },
    "id": "j6z4sm0uUgdV",
    "outputId": "7e84715b-f7a6-41f7-c709-66700f1d8cc8"
   },
   "outputs": [
    {
     "name": "stdout",
     "output_type": "stream",
     "text": [
      "solution = 1340\n"
     ]
    }
   ],
   "source": [
    "solution = 0\n",
    "for zero in zeros:\n",
    "    for nine in nines:\n",
    "        if path_is_valid(data, zero, nine):\n",
    "            solution += path_score(data, zero, nine)\n",
    "print(f'{solution = }')"
   ]
  },
  {
   "cell_type": "code",
   "execution_count": null,
   "metadata": {
    "id": "pfxC_gcvU7lI"
   },
   "outputs": [],
   "source": []
  }
 ],
 "metadata": {
  "colab": {
   "authorship_tag": "ABX9TyOKegyJfbMc0xRoYiEVrZTh",
   "provenance": []
  },
  "kernelspec": {
   "display_name": ".venv",
   "language": "python",
   "name": "python3"
  },
  "language_info": {
   "codemirror_mode": {
    "name": "ipython",
    "version": 3
   },
   "file_extension": ".py",
   "mimetype": "text/x-python",
   "name": "python",
   "nbconvert_exporter": "python",
   "pygments_lexer": "ipython3",
   "version": "3.13.1"
  }
 },
 "nbformat": 4,
 "nbformat_minor": 0
}
