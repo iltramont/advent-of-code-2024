{
 "cells": [
  {
   "cell_type": "markdown",
   "metadata": {
    "id": "nJupdtbGW8UM"
   },
   "source": [
    "problem: https://adventofcode.com/2024/day/25"
   ]
  },
  {
   "cell_type": "code",
   "execution_count": 1,
   "metadata": {
    "executionInfo": {
     "elapsed": 287,
     "status": "ok",
     "timestamp": 1735140634047,
     "user": {
      "displayName": "luca tramonti",
      "userId": "04545773391778520589"
     },
     "user_tz": -60
    },
    "id": "V579a4r4cMsr"
   },
   "outputs": [],
   "source": [
    "import numpy as np\n",
    "import os"
   ]
  },
  {
   "cell_type": "code",
   "execution_count": 3,
   "metadata": {
    "executionInfo": {
     "elapsed": 283,
     "status": "ok",
     "timestamp": 1735142613939,
     "user": {
      "displayName": "luca tramonti",
      "userId": "04545773391778520589"
     },
     "user_tz": -60
    },
    "id": "R_xuH1LxWrOB"
   },
   "outputs": [],
   "source": [
    "objects = []\n",
    "\n",
    "problem_number = 25\n",
    "path = os.path.join('..', 'data', f'problem{problem_number}_data.txt')\n",
    "with open(path, 'r') as file:\n",
    "    x = []\n",
    "    for row in file:\n",
    "        if row == '\\n':\n",
    "            objects.append(np.array(x))\n",
    "            x = []\n",
    "        else:\n",
    "            x.append(list(row.strip()))\n",
    "    objects.append(np.array(x))\n",
    "\n",
    "keys = []\n",
    "locks = []\n",
    "for x in objects:\n",
    "    if x[0][0] == '#':\n",
    "        locks.append(x)\n",
    "    else:\n",
    "        keys.append(x)"
   ]
  },
  {
   "cell_type": "markdown",
   "metadata": {},
   "source": [
    "**Part 1**"
   ]
  },
  {
   "cell_type": "code",
   "execution_count": 4,
   "metadata": {
    "executionInfo": {
     "elapsed": 4,
     "status": "ok",
     "timestamp": 1735142614360,
     "user": {
      "displayName": "luca tramonti",
      "userId": "04545773391778520589"
     },
     "user_tz": -60
    },
    "id": "xETs5cdLgBcw"
   },
   "outputs": [],
   "source": [
    "for i in range(len(keys)):\n",
    "    x = []\n",
    "    for r in keys[i].T:\n",
    "        x.append(np.count_nonzero(r == '#')-1)\n",
    "    keys[i] = np.array(x)\n",
    "\n",
    "for i in range(len(locks)):\n",
    "    x = []\n",
    "    for r in locks[i].T:\n",
    "        x.append(np.count_nonzero(r == '#')-1)\n",
    "    locks[i] = np.array(x)"
   ]
  },
  {
   "cell_type": "code",
   "execution_count": 5,
   "metadata": {
    "colab": {
     "base_uri": "https://localhost:8080/"
    },
    "executionInfo": {
     "elapsed": 691,
     "status": "ok",
     "timestamp": 1735143235407,
     "user": {
      "displayName": "luca tramonti",
      "userId": "04545773391778520589"
     },
     "user_tz": -60
    },
    "id": "rqgKlZhTiC_X",
    "outputId": "143be20f-aa54-4496-8ddb-8067b2cf0413"
   },
   "outputs": [
    {
     "name": "stdout",
     "output_type": "stream",
     "text": [
      "result = 2950\n"
     ]
    }
   ],
   "source": [
    "result = 0\n",
    "for k in keys:\n",
    "    for l in locks:\n",
    "        if ((k + l) <= 5).all():\n",
    "            result += 1\n",
    "\n",
    "print(f'{result = }')"
   ]
  },
  {
   "cell_type": "code",
   "execution_count": null,
   "metadata": {
    "id": "ogxxcCpcl4BP"
   },
   "outputs": [],
   "source": []
  }
 ],
 "metadata": {
  "colab": {
   "authorship_tag": "ABX9TyOaSDS8ZCw7JPGYJiUULIUR",
   "provenance": []
  },
  "kernelspec": {
   "display_name": ".venv",
   "language": "python",
   "name": "python3"
  },
  "language_info": {
   "codemirror_mode": {
    "name": "ipython",
    "version": 3
   },
   "file_extension": ".py",
   "mimetype": "text/x-python",
   "name": "python",
   "nbconvert_exporter": "python",
   "pygments_lexer": "ipython3",
   "version": "3.13.1"
  }
 },
 "nbformat": 4,
 "nbformat_minor": 0
}
