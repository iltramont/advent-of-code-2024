{
 "cells": [
  {
   "cell_type": "markdown",
   "metadata": {
    "id": "CBie-adgQzLZ"
   },
   "source": [
    "problem: https://adventofcode.com/2024/day/11"
   ]
  },
  {
   "cell_type": "code",
   "execution_count": 2,
   "metadata": {
    "executionInfo": {
     "elapsed": 228,
     "status": "ok",
     "timestamp": 1734806894808,
     "user": {
      "displayName": "luca tramonti",
      "userId": "04545773391778520589"
     },
     "user_tz": -60
    },
    "id": "2mwj_9JHQhvc"
   },
   "outputs": [],
   "source": [
    "import numpy as np\n",
    "from time import perf_counter\n",
    "import os"
   ]
  },
  {
   "cell_type": "code",
   "execution_count": 3,
   "metadata": {
    "executionInfo": {
     "elapsed": 4,
     "status": "ok",
     "timestamp": 1734806895067,
     "user": {
      "displayName": "luca tramonti",
      "userId": "04545773391778520589"
     },
     "user_tz": -60
    },
    "id": "OrX8hh8ZRKQe"
   },
   "outputs": [],
   "source": [
    "rows = []\n",
    "problem_number = 11\n",
    "path = os.path.join('..', 'data', f'problem{problem_number}_data.txt')\n",
    "with open(path, 'r') as file:\n",
    "  for row in file:\n",
    "    rows.append(row.strip().split())\n",
    "data = rows[0]"
   ]
  },
  {
   "cell_type": "code",
   "execution_count": 4,
   "metadata": {
    "colab": {
     "base_uri": "https://localhost:8080/"
    },
    "executionInfo": {
     "elapsed": 4,
     "status": "ok",
     "timestamp": 1734806895067,
     "user": {
      "displayName": "luca tramonti",
      "userId": "04545773391778520589"
     },
     "user_tz": -60
    },
    "id": "muFf0YtERUqP",
    "outputId": "6614211f-3378-488d-aa7f-20fcccf8ebeb"
   },
   "outputs": [
    {
     "name": "stdout",
     "output_type": "stream",
     "text": [
      "['92', '0', '286041', '8034', '34394', '795', '8', '2051489']\n"
     ]
    }
   ],
   "source": [
    "print(data)"
   ]
  },
  {
   "cell_type": "code",
   "execution_count": 5,
   "metadata": {
    "executionInfo": {
     "elapsed": 3,
     "status": "ok",
     "timestamp": 1734806895310,
     "user": {
      "displayName": "luca tramonti",
      "userId": "04545773391778520589"
     },
     "user_tz": -60
    },
    "id": "PUfxiHdqRaDF"
   },
   "outputs": [],
   "source": [
    "def transform_stone(stone: str) -> list[str]:\n",
    "    if stone == '0':\n",
    "        return ['1']\n",
    "    elif len(stone) % 2 == 0:\n",
    "        x, y = int(stone[:len(stone)//2]), int(stone[len(stone)//2:])\n",
    "        return [str(x), str(y)]\n",
    "    else:\n",
    "        return [str(int(stone) * 2024)]\n",
    "\n",
    "def transform_stones(stones: list[str]) -> list[str]:\n",
    "    result = []\n",
    "    for stone in stones:\n",
    "        result.extend(transform_stone(stone))\n",
    "    return result"
   ]
  },
  {
   "cell_type": "code",
   "execution_count": 6,
   "metadata": {
    "colab": {
     "base_uri": "https://localhost:8080/"
    },
    "executionInfo": {
     "elapsed": 598,
     "status": "ok",
     "timestamp": 1734806895905,
     "user": {
      "displayName": "luca tramonti",
      "userId": "04545773391778520589"
     },
     "user_tz": -60
    },
    "id": "2e3FfRnsTNlo",
    "outputId": "36755a98-af0e-40ce-fb46-05c43fa5cabd"
   },
   "outputs": [
    {
     "name": "stdout",
     "output_type": "stream",
     "text": [
      "solution = 239714\n"
     ]
    }
   ],
   "source": [
    "l = data\n",
    "for i in range(25):\n",
    "    l = transform_stones(l)\n",
    "print(f'solution = {len(l)}')"
   ]
  },
  {
   "cell_type": "markdown",
   "metadata": {
    "id": "xFeMQmPhYc1c"
   },
   "source": [
    "**Part 2**"
   ]
  },
  {
   "cell_type": "code",
   "execution_count": 7,
   "metadata": {
    "executionInfo": {
     "elapsed": 4,
     "status": "ok",
     "timestamp": 1734806895905,
     "user": {
      "displayName": "luca tramonti",
      "userId": "04545773391778520589"
     },
     "user_tz": -60
    },
    "id": "MUl5Wt85biqu"
   },
   "outputs": [],
   "source": [
    "def create_dict_from_stones(stones: list[str]):\n",
    "    result = dict()\n",
    "    for stone in stones:\n",
    "        if stone in result.keys():\n",
    "            result[stone] += 1\n",
    "        else:\n",
    "            result[stone] = 1\n",
    "    return result"
   ]
  },
  {
   "cell_type": "code",
   "execution_count": 8,
   "metadata": {
    "executionInfo": {
     "elapsed": 4,
     "status": "ok",
     "timestamp": 1734806895905,
     "user": {
      "displayName": "luca tramonti",
      "userId": "04545773391778520589"
     },
     "user_tz": -60
    },
    "id": "VjgoZHRIVhvh"
   },
   "outputs": [],
   "source": [
    "def transform_stones_dict(stones_dict: dict) -> dict:\n",
    "    result = dict()\n",
    "    for stone, number in stones_dict.items():\n",
    "        new_stones = transform_stone(stone)\n",
    "        for s in new_stones:\n",
    "            if s in result.keys():\n",
    "                result[s] += number\n",
    "            else:\n",
    "                result[s] = number\n",
    "    return result"
   ]
  },
  {
   "cell_type": "code",
   "execution_count": 9,
   "metadata": {
    "colab": {
     "base_uri": "https://localhost:8080/"
    },
    "executionInfo": {
     "elapsed": 519,
     "status": "ok",
     "timestamp": 1734806899807,
     "user": {
      "displayName": "luca tramonti",
      "userId": "04545773391778520589"
     },
     "user_tz": -60
    },
    "id": "ABJAEK-XYiFL",
    "outputId": "a693a88a-a5f2-4dd7-b762-a0350b730590"
   },
   "outputs": [
    {
     "name": "stdout",
     "output_type": "stream",
     "text": [
      "solution = 284973560658514\n"
     ]
    }
   ],
   "source": [
    "l = create_dict_from_stones(data)\n",
    "for i in range(75):\n",
    "    l = transform_stones_dict(l)\n",
    "print(f'solution = {sum(l.values())}')"
   ]
  },
  {
   "cell_type": "markdown",
   "metadata": {
    "id": "R8CpPTnff8DF"
   },
   "source": [
    "# Performance comparison"
   ]
  },
  {
   "cell_type": "code",
   "execution_count": 11,
   "metadata": {
    "colab": {
     "base_uri": "https://localhost:8080/"
    },
    "executionInfo": {
     "elapsed": 34113,
     "status": "ok",
     "timestamp": 1734807284791,
     "user": {
      "displayName": "luca tramonti",
      "userId": "04545773391778520589"
     },
     "user_tz": -60
    },
    "id": "xj_kQe99b0ZS",
    "outputId": "84159a40-e98c-4bbc-9359-836c2e3504e4"
   },
   "outputs": [
    {
     "name": "stdout",
     "output_type": "stream",
     "text": [
      "blink: 1\tmethod 1: 0.00001\tmethod 2: 0.00001\tadvantage: 8.87%\n",
      "blink: 2\tmethod 1: 0.00001\tmethod 2: 0.00001\tadvantage: -14.53%\n",
      "blink: 3\tmethod 1: 0.00001\tmethod 2: 0.00002\tadvantage: -40.52%\n",
      "blink: 4\tmethod 1: 0.00002\tmethod 2: 0.00002\tadvantage: -36.46%\n",
      "blink: 5\tmethod 1: 0.00002\tmethod 2: 0.00003\tadvantage: -20.64%\n",
      "blink: 6\tmethod 1: 0.00003\tmethod 2: 0.00003\tadvantage: 0.33%\n",
      "blink: 7\tmethod 1: 0.00005\tmethod 2: 0.00004\tadvantage: 22.08%\n",
      "blink: 8\tmethod 1: 0.00006\tmethod 2: 0.00004\tadvantage: 35.75%\n",
      "blink: 9\tmethod 1: 0.00011\tmethod 2: 0.00006\tadvantage: 46.72%\n",
      "blink: 10\tmethod 1: 0.00016\tmethod 2: 0.00006\tadvantage: 59.46%\n",
      "blink: 11\tmethod 1: 0.00024\tmethod 2: 0.00006\tadvantage: 75.64%\n",
      "blink: 12\tmethod 1: 0.00034\tmethod 2: 0.00006\tadvantage: 83.32%\n",
      "blink: 13\tmethod 1: 0.00050\tmethod 2: 0.00006\tadvantage: 87.19%\n",
      "blink: 14\tmethod 1: 0.00076\tmethod 2: 0.00007\tadvantage: 90.84%\n",
      "blink: 15\tmethod 1: 0.00128\tmethod 2: 0.00009\tadvantage: 92.77%\n",
      "blink: 16\tmethod 1: 0.00191\tmethod 2: 0.00010\tadvantage: 94.72%\n",
      "blink: 17\tmethod 1: 0.00281\tmethod 2: 0.00009\tadvantage: 96.64%\n",
      "blink: 18\tmethod 1: 0.00409\tmethod 2: 0.00012\tadvantage: 97.04%\n",
      "blink: 19\tmethod 1: 0.00685\tmethod 2: 0.00013\tadvantage: 98.09%\n",
      "blink: 20\tmethod 1: 0.01045\tmethod 2: 0.00016\tadvantage: 98.51%\n",
      "blink: 21\tmethod 1: 0.01530\tmethod 2: 0.00015\tadvantage: 99.04%\n",
      "blink: 22\tmethod 1: 0.02264\tmethod 2: 0.00016\tadvantage: 99.29%\n",
      "blink: 23\tmethod 1: 0.03407\tmethod 2: 0.00019\tadvantage: 99.46%\n",
      "blink: 24\tmethod 1: 0.05340\tmethod 2: 0.00020\tadvantage: 99.62%\n",
      "blink: 25\tmethod 1: 0.08097\tmethod 2: 0.00021\tadvantage: 99.74%\n",
      "blink: 26\tmethod 1: 0.12947\tmethod 2: 0.00045\tadvantage: 99.65%\n",
      "blink: 27\tmethod 1: 0.23370\tmethod 2: 0.00027\tadvantage: 99.88%\n",
      "blink: 28\tmethod 1: 0.29602\tmethod 2: 0.00030\tadvantage: 99.90%\n",
      "blink: 29\tmethod 1: 0.45598\tmethod 2: 0.00037\tadvantage: 99.92%\n",
      "blink: 30\tmethod 1: 0.69835\tmethod 2: 0.00036\tadvantage: 99.95%\n",
      "blink: 31\tmethod 1: 1.05177\tmethod 2: 0.00042\tadvantage: 99.96%\n",
      "blink: 32\tmethod 1: 1.58696\tmethod 2: 0.00044\tadvantage: 99.97%\n",
      "blink: 33\tmethod 1: 2.41258\tmethod 2: 0.00048\tadvantage: 99.98%\n",
      "blink: 34\tmethod 1: 3.68296\tmethod 2: 0.00053\tadvantage: 99.99%\n",
      "blink: 35\tmethod 1: 5.51825\tmethod 2: 0.00058\tadvantage: 99.99%\n"
     ]
    }
   ],
   "source": [
    "l1 = data\n",
    "l2 = create_dict_from_stones(data)\n",
    "for i in range(35):\n",
    "    t1 = perf_counter()\n",
    "    l1 = transform_stones(l1)\n",
    "    t2 = perf_counter()\n",
    "    l2 = transform_stones_dict(l2)\n",
    "    t3 = perf_counter()\n",
    "    x = t2 - t1\n",
    "    y = t3 - t2\n",
    "    print(f'blink: {i + 1}\\tmethod 1: {x:.5f}\\tmethod 2: {y:.5f}\\tadvantage: {100*(x-y)/x:.2f}%')"
   ]
  },
  {
   "cell_type": "code",
   "execution_count": null,
   "metadata": {
    "id": "FozZ63rZfprr"
   },
   "outputs": [],
   "source": []
  }
 ],
 "metadata": {
  "colab": {
   "authorship_tag": "ABX9TyN8ArDqI+XEpsSuONlP71tk",
   "provenance": []
  },
  "kernelspec": {
   "display_name": ".venv",
   "language": "python",
   "name": "python3"
  },
  "language_info": {
   "codemirror_mode": {
    "name": "ipython",
    "version": 3
   },
   "file_extension": ".py",
   "mimetype": "text/x-python",
   "name": "python",
   "nbconvert_exporter": "python",
   "pygments_lexer": "ipython3",
   "version": "3.13.1"
  }
 },
 "nbformat": 4,
 "nbformat_minor": 0
}
