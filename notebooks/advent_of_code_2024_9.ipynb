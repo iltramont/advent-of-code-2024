{
 "cells": [
  {
   "cell_type": "markdown",
   "metadata": {},
   "source": [
    "problem: https://adventofcode.com/2024/day/9"
   ]
  },
  {
   "cell_type": "code",
   "execution_count": 12,
   "metadata": {
    "executionInfo": {
     "elapsed": 450,
     "status": "ok",
     "timestamp": 1734732641556,
     "user": {
      "displayName": "luca tramonti",
      "userId": "04545773391778520589"
     },
     "user_tz": -60
    },
    "id": "gRKXIBM8q_eQ"
   },
   "outputs": [],
   "source": [
    "import numpy as np\n",
    "import os"
   ]
  },
  {
   "cell_type": "code",
   "execution_count": 13,
   "metadata": {
    "executionInfo": {
     "elapsed": 5,
     "status": "ok",
     "timestamp": 1734732641556,
     "user": {
      "displayName": "luca tramonti",
      "userId": "04545773391778520589"
     },
     "user_tz": -60
    },
    "id": "DXOFnXUPDJsq"
   },
   "outputs": [],
   "source": [
    "rows = []\n",
    "problem_number = 9\n",
    "path = os.path.join('..', 'data', f'problem{problem_number}_data.txt')\n",
    "with open(path, 'r') as file:\n",
    "  for row in file:\n",
    "    rows.append(row.strip())\n",
    "data = np.array(list(rows[0]), dtype=int)"
   ]
  },
  {
   "cell_type": "code",
   "execution_count": 14,
   "metadata": {
    "colab": {
     "base_uri": "https://localhost:8080/"
    },
    "executionInfo": {
     "elapsed": 5,
     "status": "ok",
     "timestamp": 1734732641557,
     "user": {
      "displayName": "luca tramonti",
      "userId": "04545773391778520589"
     },
     "user_tz": -60
    },
    "id": "SF-LWk6DFLqr",
    "outputId": "a05f6dc0-6e58-4251-8bd1-a89d1c182362"
   },
   "outputs": [
    {
     "name": "stdout",
     "output_type": "stream",
     "text": [
      "data.shape = (19999,)\n",
      "[6 5 8 ... 2 1 8]\n"
     ]
    }
   ],
   "source": [
    "print(f'{data.shape = }')\n",
    "print(data)"
   ]
  },
  {
   "cell_type": "code",
   "execution_count": 15,
   "metadata": {
    "executionInfo": {
     "elapsed": 3,
     "status": "ok",
     "timestamp": 1734732641844,
     "user": {
      "displayName": "luca tramonti",
      "userId": "04545773391778520589"
     },
     "user_tz": -60
    },
    "id": "LAd_h-IcDhPI"
   },
   "outputs": [],
   "source": [
    "def convert_disk_map(diskmap):\n",
    "    result = []\n",
    "    id = 0\n",
    "    free_space = False\n",
    "    for n in diskmap:\n",
    "        if not free_space:\n",
    "            for i in range(n):\n",
    "                result.append(id)\n",
    "            free_space = True\n",
    "            id += 1\n",
    "        else:\n",
    "            if n == 0:\n",
    "                free_space = False\n",
    "            else:\n",
    "                for i in range(n):\n",
    "                    result.append('.')\n",
    "                free_space = False\n",
    "    return result"
   ]
  },
  {
   "cell_type": "code",
   "execution_count": 16,
   "metadata": {
    "executionInfo": {
     "elapsed": 330,
     "status": "ok",
     "timestamp": 1734732647152,
     "user": {
      "displayName": "luca tramonti",
      "userId": "04545773391778520589"
     },
     "user_tz": -60
    },
    "id": "gLGy4bjLHlKy"
   },
   "outputs": [],
   "source": [
    "def preliminars(converted_diskmap):\n",
    "    p = True\n",
    "    while p:\n",
    "        if converted_diskmap[-1] == '.':\n",
    "            converted_diskmap.pop(-1)\n",
    "        else:\n",
    "            p = False"
   ]
  },
  {
   "cell_type": "code",
   "execution_count": 17,
   "metadata": {
    "executionInfo": {
     "elapsed": 436,
     "status": "ok",
     "timestamp": 1734732669163,
     "user": {
      "displayName": "luca tramonti",
      "userId": "04545773391778520589"
     },
     "user_tz": -60
    },
    "id": "KPCc9TtjQ-dD"
   },
   "outputs": [],
   "source": [
    "def pretty_print(diskmap):\n",
    "    result = ''\n",
    "    for i in diskmap:\n",
    "        result = result + str(i)\n",
    "    return result"
   ]
  },
  {
   "cell_type": "code",
   "execution_count": 18,
   "metadata": {
    "executionInfo": {
     "elapsed": 3,
     "status": "ok",
     "timestamp": 1734732669163,
     "user": {
      "displayName": "luca tramonti",
      "userId": "04545773391778520589"
     },
     "user_tz": -60
    },
    "id": "rftNqy7uHdwg"
   },
   "outputs": [],
   "source": [
    "def rearrange_diskmap(diskmap, converted=False, verbose=False):\n",
    "    if not converted:\n",
    "        diskmap = convert_disk_map(diskmap)\n",
    "    result = diskmap\n",
    "    l = len(result)\n",
    "    preliminars(result)\n",
    "    for i in range(l):\n",
    "        if i >= len(result):\n",
    "            break\n",
    "        elif result[i] == '.':\n",
    "            preliminars(result)\n",
    "            if i < len(result):\n",
    "                id = result.pop(-1)\n",
    "                result[i] = id\n",
    "            if verbose:\n",
    "                print(pretty_print(result))\n",
    "    return result + ['.'] * (l - len(result))"
   ]
  },
  {
   "cell_type": "code",
   "execution_count": 19,
   "metadata": {
    "executionInfo": {
     "elapsed": 551,
     "status": "ok",
     "timestamp": 1734732674640,
     "user": {
      "displayName": "luca tramonti",
      "userId": "04545773391778520589"
     },
     "user_tz": -60
    },
    "id": "c_oCv27_CYC_"
   },
   "outputs": [],
   "source": [
    "def compute_checksum(diskmap) -> int:\n",
    "    arranged_diskmap = rearrange_diskmap(diskmap)\n",
    "    result = 0\n",
    "    for i in range(len(arranged_diskmap)):\n",
    "        if arranged_diskmap[i] == '.':\n",
    "            continue\n",
    "        else:\n",
    "            result = result + (i * arranged_diskmap[i])\n",
    "    return result"
   ]
  },
  {
   "cell_type": "code",
   "execution_count": 20,
   "metadata": {
    "colab": {
     "base_uri": "https://localhost:8080/"
    },
    "executionInfo": {
     "elapsed": 2,
     "status": "ok",
     "timestamp": 1734732674985,
     "user": {
      "displayName": "luca tramonti",
      "userId": "04545773391778520589"
     },
     "user_tz": -60
    },
    "id": "YfBeMmM_ukz1",
    "outputId": "c26d11d5-ee91-4866-f5db-65635222f018"
   },
   "outputs": [
    {
     "name": "stdout",
     "output_type": "stream",
     "text": [
      "solution = 6384282079460\n"
     ]
    }
   ],
   "source": [
    "solution = compute_checksum(data)\n",
    "print(f'{solution = }')"
   ]
  },
  {
   "cell_type": "markdown",
   "metadata": {
    "id": "zsKenBwhcHhx"
   },
   "source": [
    "**Part 2**"
   ]
  },
  {
   "cell_type": "code",
   "execution_count": 22,
   "metadata": {
    "executionInfo": {
     "elapsed": 249,
     "status": "ok",
     "timestamp": 1734738096691,
     "user": {
      "displayName": "luca tramonti",
      "userId": "04545773391778520589"
     },
     "user_tz": -60
    },
    "id": "CL1_4yD9cJj1"
   },
   "outputs": [],
   "source": [
    "def diskmap_description(diskmap):\n",
    "    result = []\n",
    "    file_id = 0\n",
    "    is_space = False\n",
    "    for n in diskmap:\n",
    "        if is_space:\n",
    "            if n == 0:\n",
    "                is_space = False\n",
    "            else:\n",
    "                result.append(('s', n))\n",
    "                is_space = False\n",
    "        else:\n",
    "            result.append(('f', n, file_id))\n",
    "            file_id += 1\n",
    "            is_space = True\n",
    "    return result\n",
    "\n",
    "def from_description_to_extended(diskmap_description):\n",
    "    result = []\n",
    "    for block in diskmap_description:\n",
    "        if block[0] == 's' and block[1] == 0:\n",
    "            continue\n",
    "        elif block[0] == 's':\n",
    "            for i in range(block[1]):\n",
    "                result.append('.')\n",
    "        else:\n",
    "            for i in range(block[1]):\n",
    "                result.append(block[2])\n",
    "    return result\n",
    "\n",
    "def arrange_diskmap_blocks(diskmap):\n",
    "    description = diskmap_description(diskmap)\n",
    "    result = description\n",
    "    i = -1\n",
    "    while True:\n",
    "        if len(result) == -i:\n",
    "            for x in result:\n",
    "                if x == ('s', 0):\n",
    "                    result.remove(x)\n",
    "            return result\n",
    "        b = result[i]\n",
    "        if b[0] == 's':\n",
    "            i = i - 1\n",
    "        else:\n",
    "            l = b[1]\n",
    "            for j in range(0, len(result) + i):\n",
    "                s = result[j]\n",
    "                if s[0] == 's' and s[1] >= l:\n",
    "                    result[j] = ('s', s[1] - l)\n",
    "                    result[i] = ('s', l)\n",
    "                    result.insert(j, b)\n",
    "                    break\n",
    "            i = i - 1\n",
    "\n",
    "def compute_checksum_2(diskmap) -> int:\n",
    "    arranged_diskmap = arrange_diskmap_blocks(diskmap)\n",
    "    arranged_diskmap = from_description_to_extended(arranged_diskmap)\n",
    "    result = 0\n",
    "    for i in range(len(arranged_diskmap)):\n",
    "        if arranged_diskmap[i] == '.':\n",
    "            continue\n",
    "        else:\n",
    "            result = result + (i * arranged_diskmap[i])\n",
    "    return result"
   ]
  },
  {
   "cell_type": "code",
   "execution_count": 23,
   "metadata": {
    "colab": {
     "base_uri": "https://localhost:8080/"
    },
    "executionInfo": {
     "elapsed": 15784,
     "status": "ok",
     "timestamp": 1734738167855,
     "user": {
      "displayName": "luca tramonti",
      "userId": "04545773391778520589"
     },
     "user_tz": -60
    },
    "id": "ciYug95VYGPb",
    "outputId": "a3a2e002-e9a4-4075-8c91-a7718ef2eafc"
   },
   "outputs": [
    {
     "name": "stdout",
     "output_type": "stream",
     "text": [
      "solution = 6408966547049\n"
     ]
    }
   ],
   "source": [
    "solution = compute_checksum_2(data)\n",
    "print(f'{solution = }')"
   ]
  },
  {
   "cell_type": "code",
   "execution_count": null,
   "metadata": {
    "id": "1YM6ma5Fc4fj"
   },
   "outputs": [],
   "source": []
  }
 ],
 "metadata": {
  "colab": {
   "authorship_tag": "ABX9TyMoBvGbceXp1qJRSlbjDoIj",
   "provenance": []
  },
  "kernelspec": {
   "display_name": ".venv",
   "language": "python",
   "name": "python3"
  },
  "language_info": {
   "codemirror_mode": {
    "name": "ipython",
    "version": 3
   },
   "file_extension": ".py",
   "mimetype": "text/x-python",
   "name": "python",
   "nbconvert_exporter": "python",
   "pygments_lexer": "ipython3",
   "version": "3.13.1"
  }
 },
 "nbformat": 4,
 "nbformat_minor": 0
}
