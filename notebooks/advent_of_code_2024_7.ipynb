{
 "cells": [
  {
   "cell_type": "markdown",
   "metadata": {
    "id": "7Yh2DATJg009"
   },
   "source": [
    "problem: https://adventofcode.com/2024/day/7"
   ]
  },
  {
   "cell_type": "code",
   "execution_count": 1,
   "metadata": {},
   "outputs": [],
   "source": [
    "import os"
   ]
  },
  {
   "cell_type": "code",
   "execution_count": 2,
   "metadata": {
    "colab": {
     "base_uri": "https://localhost:8080/"
    },
    "executionInfo": {
     "elapsed": 206,
     "status": "ok",
     "timestamp": 1734306150902,
     "user": {
      "displayName": "luca tramonti",
      "userId": "04545773391778520589"
     },
     "user_tz": -60
    },
    "id": "k10nxOb9ghdR",
    "outputId": "ba29de4b-353d-4cbf-852f-930f2b38b0ca"
   },
   "outputs": [
    {
     "name": "stdout",
     "output_type": "stream",
     "text": [
      "['29833: 1 50 15 39', '458991049840: 17 598 378 2 69 40', '224381: 120 66 66 890 5 96', '5003: 852 662 973 8 3 3 2 1 1', '441496: 6 60 835 62 9 2 4 8 40']\n",
      "[29833, 458991049840, 224381, 5003, 441496]\n",
      "[[1, 50, 15, 39], [17, 598, 378, 2, 69, 40], [120, 66, 66, 890, 5, 96], [852, 662, 973, 8, 3, 3, 2, 1, 1], [6, 60, 835, 62, 9, 2, 4, 8, 40]]\n"
     ]
    }
   ],
   "source": [
    "rows = []\n",
    "test_values = []\n",
    "numbers = []\n",
    "\n",
    "problem_number = 7\n",
    "path = os.path.join('..', 'data', f'problem{problem_number}_data.txt')\n",
    "with open(path, 'r') as file:\n",
    "  for row in file:\n",
    "    rows.append(row.strip())\n",
    "    row = row.strip().split(':')\n",
    "    test_values.append(int(row[0]))\n",
    "    numbers.append([int(i) for i in row[1].split()])\n",
    "print(rows[:5])\n",
    "print(test_values[:5])\n",
    "print(numbers[:5])"
   ]
  },
  {
   "cell_type": "markdown",
   "metadata": {
    "id": "5uFdP5mTg_qY"
   },
   "source": [
    "**Part 1**"
   ]
  },
  {
   "cell_type": "code",
   "execution_count": 3,
   "metadata": {
    "executionInfo": {
     "elapsed": 216,
     "status": "ok",
     "timestamp": 1734307355088,
     "user": {
      "displayName": "luca tramonti",
      "userId": "04545773391778520589"
     },
     "user_tz": -60
    },
    "id": "ZqrLW24Shet7"
   },
   "outputs": [],
   "source": [
    "def compute_step(number_list, x) -> list:\n",
    "    result = []\n",
    "    for n in number_list:\n",
    "        y = n + x\n",
    "        result.append(y)\n",
    "        y = n * x\n",
    "        result.append(y)\n",
    "    return list(set(result))"
   ]
  },
  {
   "cell_type": "code",
   "execution_count": 4,
   "metadata": {
    "colab": {
     "base_uri": "https://localhost:8080/"
    },
    "executionInfo": {
     "elapsed": 2,
     "status": "ok",
     "timestamp": 1734307355291,
     "user": {
      "displayName": "luca tramonti",
      "userId": "04545773391778520589"
     },
     "user_tz": -60
    },
    "id": "-P4L3G-AuNZV",
    "outputId": "85ef33e6-4d75-4deb-a15e-fa3c30f67227"
   },
   "outputs": [
    {
     "data": {
      "text/plain": [
       "[2, 3, 4, 5, 6]"
      ]
     },
     "execution_count": 4,
     "metadata": {},
     "output_type": "execute_result"
    }
   ],
   "source": [
    "compute_step([1, 2, 3], 2)"
   ]
  },
  {
   "cell_type": "code",
   "execution_count": 5,
   "metadata": {
    "executionInfo": {
     "elapsed": 186,
     "status": "ok",
     "timestamp": 1734307365221,
     "user": {
      "displayName": "luca tramonti",
      "userId": "04545773391778520589"
     },
     "user_tz": -60
    },
    "id": "bUK-2s4FuQ_p"
   },
   "outputs": [],
   "source": [
    "def compute_numbers(numbers) -> list:\n",
    "    result = numbers[0:1]\n",
    "    for n in numbers[1:]:\n",
    "        result = compute_step(result, n)\n",
    "    return result"
   ]
  },
  {
   "cell_type": "code",
   "execution_count": 6,
   "metadata": {
    "executionInfo": {
     "elapsed": 331,
     "status": "ok",
     "timestamp": 1734307876019,
     "user": {
      "displayName": "luca tramonti",
      "userId": "04545773391778520589"
     },
     "user_tz": -60
    },
    "id": "jqfrb_hmvNfj"
   },
   "outputs": [],
   "source": [
    "accepted_targets = []\n",
    "solution = 0\n",
    "for target, number_list in zip(test_values, numbers):\n",
    "    if target in compute_numbers(number_list):\n",
    "        accepted_targets.append(target)\n",
    "        solution += target"
   ]
  },
  {
   "cell_type": "code",
   "execution_count": 7,
   "metadata": {
    "colab": {
     "base_uri": "https://localhost:8080/"
    },
    "executionInfo": {
     "elapsed": 4,
     "status": "ok",
     "timestamp": 1734307876789,
     "user": {
      "displayName": "luca tramonti",
      "userId": "04545773391778520589"
     },
     "user_tz": -60
    },
    "id": "5_9aEYcmvVcG",
    "outputId": "6b7a6fdf-84c8-4854-952f-f73a0fb9df7f"
   },
   "outputs": [
    {
     "name": "stdout",
     "output_type": "stream",
     "text": [
      "solution = 1298103531759\n"
     ]
    }
   ],
   "source": [
    "print(f'{solution = }')"
   ]
  },
  {
   "cell_type": "markdown",
   "metadata": {
    "id": "6PToAdxBzV_4"
   },
   "source": [
    "**Part 2**"
   ]
  },
  {
   "cell_type": "code",
   "execution_count": 8,
   "metadata": {
    "executionInfo": {
     "elapsed": 330,
     "status": "ok",
     "timestamp": 1734308421306,
     "user": {
      "displayName": "luca tramonti",
      "userId": "04545773391778520589"
     },
     "user_tz": -60
    },
    "id": "ZEPCR3pDx72I"
   },
   "outputs": [],
   "source": [
    "def compute_step_concat(number_list, x, target) -> list:\n",
    "    result = []\n",
    "    for n in number_list:\n",
    "        y = n + x\n",
    "        if y <= target:\n",
    "            result.append(y)\n",
    "        y = n * x\n",
    "        if y <= target:\n",
    "            result.append(y)\n",
    "        y = n*(10**len(str(x))) + x\n",
    "        if y <= target:\n",
    "            result.append(y)\n",
    "    return list(set(result))\n",
    "\n",
    "def compute_numbers_concat(numbers, target) -> list:\n",
    "    result = numbers[0:1]\n",
    "    for n in numbers[1:]:\n",
    "        result = compute_step_concat(result, n, target)\n",
    "    return result"
   ]
  },
  {
   "cell_type": "code",
   "execution_count": 9,
   "metadata": {
    "colab": {
     "base_uri": "https://localhost:8080/"
    },
    "executionInfo": {
     "elapsed": 2973,
     "status": "ok",
     "timestamp": 1734308424273,
     "user": {
      "displayName": "luca tramonti",
      "userId": "04545773391778520589"
     },
     "user_tz": -60
    },
    "id": "mNdgEUcAz-pS",
    "outputId": "9c59d4ab-89cc-4379-d2e7-34aeba097fcb"
   },
   "outputs": [
    {
     "name": "stdout",
     "output_type": "stream",
     "text": [
      "solution = 140575048428831\n"
     ]
    }
   ],
   "source": [
    "accepted_targets = []\n",
    "solution = 0\n",
    "for target, number_list in zip(test_values, numbers):\n",
    "    if target in compute_numbers_concat(number_list, target):\n",
    "        accepted_targets.append(target)\n",
    "        solution += target\n",
    "print(f'{solution = }')"
   ]
  },
  {
   "cell_type": "code",
   "execution_count": null,
   "metadata": {
    "id": "98oDPlJY0mdR"
   },
   "outputs": [],
   "source": []
  }
 ],
 "metadata": {
  "colab": {
   "authorship_tag": "ABX9TyMc/Jev1d6Ims+3yONMQFex",
   "provenance": []
  },
  "kernelspec": {
   "display_name": ".venv",
   "language": "python",
   "name": "python3"
  },
  "language_info": {
   "codemirror_mode": {
    "name": "ipython",
    "version": 3
   },
   "file_extension": ".py",
   "mimetype": "text/x-python",
   "name": "python",
   "nbconvert_exporter": "python",
   "pygments_lexer": "ipython3",
   "version": "3.13.1"
  }
 },
 "nbformat": 4,
 "nbformat_minor": 0
}
