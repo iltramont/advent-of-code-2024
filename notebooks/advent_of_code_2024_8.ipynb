{
 "cells": [
  {
   "cell_type": "markdown",
   "metadata": {
    "id": "Gglx72SILYSr"
   },
   "source": [
    "problem: https://adventofcode.com/2024/day/8"
   ]
  },
  {
   "cell_type": "code",
   "execution_count": 13,
   "metadata": {
    "executionInfo": {
     "elapsed": 257,
     "status": "ok",
     "timestamp": 1734388200463,
     "user": {
      "displayName": "luca tramonti",
      "userId": "04545773391778520589"
     },
     "user_tz": -60
    },
    "id": "L1qrUjfxMqY2"
   },
   "outputs": [],
   "source": [
    "import numpy as np\n",
    "import math\n",
    "import os"
   ]
  },
  {
   "cell_type": "code",
   "execution_count": 14,
   "metadata": {
    "executionInfo": {
     "elapsed": 272,
     "status": "ok",
     "timestamp": 1734383452441,
     "user": {
      "displayName": "luca tramonti",
      "userId": "04545773391778520589"
     },
     "user_tz": -60
    },
    "id": "_5urNbpuKP95"
   },
   "outputs": [],
   "source": [
    "rows = []\n",
    "problem_number = 8\n",
    "path = os.path.join('..', 'data', f'problem{problem_number}_data.txt')\n",
    "with open(path, 'r') as file:\n",
    "  for row in file:\n",
    "    rows.append(list(row.strip()))\n",
    "data = np.array(rows)"
   ]
  },
  {
   "cell_type": "markdown",
   "metadata": {
    "id": "FXqAU3Y4Lo2Q"
   },
   "source": [
    "**Part 1**"
   ]
  },
  {
   "cell_type": "code",
   "execution_count": 15,
   "metadata": {
    "executionInfo": {
     "elapsed": 306,
     "status": "ok",
     "timestamp": 1734385834063,
     "user": {
      "displayName": "luca tramonti",
      "userId": "04545773391778520589"
     },
     "user_tz": -60
    },
    "id": "LOZTxMNGOBns"
   },
   "outputs": [],
   "source": [
    "frequencies_coordinates_dict = dict()\n",
    "frequencies_coordinates = []\n",
    "for i in range(data.shape[0]):\n",
    "    for j in range(data.shape[1]):\n",
    "        frequency = data[i, j]\n",
    "        if frequency == '.':\n",
    "            continue\n",
    "        elif frequency in frequencies_coordinates_dict.keys():\n",
    "            frequencies_coordinates_dict[frequency].append((i, j))\n",
    "            frequencies_coordinates.append((i, j))\n",
    "        else:\n",
    "            frequencies_coordinates_dict[frequency] = [(i, j)]\n",
    "            frequencies_coordinates.append((i, j))\n",
    "\n",
    "frequences = frequencies_coordinates_dict.keys()"
   ]
  },
  {
   "cell_type": "code",
   "execution_count": 16,
   "metadata": {
    "executionInfo": {
     "elapsed": 251,
     "status": "ok",
     "timestamp": 1734388644128,
     "user": {
      "displayName": "luca tramonti",
      "userId": "04545773391778520589"
     },
     "user_tz": -60
    },
    "id": "MjgIxFxGOi5z"
   },
   "outputs": [],
   "source": [
    "def add_tuples(x, y) -> tuple:\n",
    "    return (x[0] + y[0], x[1] + y[1])\n",
    "\n",
    "def subtract_tuples(x, y) -> tuple[int]:\n",
    "    return (x[0] - y[0], x[1] - y[1])\n",
    "\n",
    "def mul_scalar(x, k) -> tuple[int]:\n",
    "    return (k*x[0], k*x[1])\n",
    "\n",
    "def compute_antinode_coordinates(x, y):\n",
    "    direction = subtract_tuples(x, y)\n",
    "    a1 = add_tuples(x, direction)\n",
    "    a2 = subtract_tuples(y, direction)\n",
    "    return {a1, a2}\n",
    "\n",
    "def compute_frequency_antinodes(nodes):\n",
    "    result = set()\n",
    "    if len(nodes) > 1:\n",
    "        for i in range(len(nodes) - 1):\n",
    "            for j in range(i + 1, len(nodes)):\n",
    "                result = result.union(compute_antinode_coordinates(nodes[i], nodes[j]))\n",
    "    return result"
   ]
  },
  {
   "cell_type": "code",
   "execution_count": 17,
   "metadata": {
    "executionInfo": {
     "elapsed": 247,
     "status": "ok",
     "timestamp": 1734387268438,
     "user": {
      "displayName": "luca tramonti",
      "userId": "04545773391778520589"
     },
     "user_tz": -60
    },
    "id": "X1KiXAbNQjrZ"
   },
   "outputs": [],
   "source": [
    "antinode_coordinates = dict()\n",
    "accepted_antinodes = set()\n",
    "\n",
    "for frequency, nodes in frequencies_coordinates_dict.items():\n",
    "    antinodes = compute_frequency_antinodes(nodes)\n",
    "    antinode_coordinates[frequency] = antinodes\n",
    "    for n in antinodes:\n",
    "        if n[0] >= 0 and n[0] < data.shape[0] and n[1] >= 0 and n[1] < data.shape[1]:\n",
    "            accepted_antinodes.add(n)\n",
    "\n",
    "accepted_antinodes = list(accepted_antinodes)"
   ]
  },
  {
   "cell_type": "code",
   "execution_count": 18,
   "metadata": {
    "colab": {
     "base_uri": "https://localhost:8080/"
    },
    "executionInfo": {
     "elapsed": 5,
     "status": "ok",
     "timestamp": 1734387269405,
     "user": {
      "displayName": "luca tramonti",
      "userId": "04545773391778520589"
     },
     "user_tz": -60
    },
    "id": "jEuW15RCbtrh",
    "outputId": "a2bffaef-0518-4cad-f5a7-ecda65d4406d"
   },
   "outputs": [
    {
     "name": "stdout",
     "output_type": "stream",
     "text": [
      "solution = 354\n"
     ]
    }
   ],
   "source": [
    "solution = len(accepted_antinodes)\n",
    "print(f'{solution = }')"
   ]
  },
  {
   "cell_type": "markdown",
   "metadata": {
    "id": "NvH0y39Ki6Kc"
   },
   "source": [
    "**Part 2**"
   ]
  },
  {
   "cell_type": "code",
   "execution_count": 19,
   "metadata": {
    "executionInfo": {
     "elapsed": 344,
     "status": "ok",
     "timestamp": 1734389435582,
     "user": {
      "displayName": "luca tramonti",
      "userId": "04545773391778520589"
     },
     "user_tz": -60
    },
    "id": "KdhKYlPJY0q5"
   },
   "outputs": [],
   "source": [
    "def compute_antinode_coordinates_2(x, y, data):\n",
    "    result = set()\n",
    "    direction = subtract_tuples(x, y)\n",
    "    d = math.gcd(direction[0], direction[1])\n",
    "    direction = (int(direction[0] / d), int(direction[1] / d))\n",
    "    go = True\n",
    "    k = 0\n",
    "    while go:\n",
    "        antinode = add_tuples(x, mul_scalar(direction, k))\n",
    "        if antinode[0] >= 0 and antinode[0] < data.shape[0] and antinode[1] >= 0 and antinode[1] < data.shape[1]:\n",
    "            result.add(antinode)\n",
    "            k += 1\n",
    "        else:\n",
    "            go = False\n",
    "    go = True\n",
    "    k = -1\n",
    "    while go:\n",
    "        antinode = add_tuples(x, mul_scalar(direction, k))\n",
    "        if antinode[0] >= 0 and antinode[0] < data.shape[0] and antinode[1] >= 0 and antinode[1] < data.shape[1]:\n",
    "            result.add(antinode)\n",
    "            k -= 1\n",
    "        else:\n",
    "            go = False\n",
    "    return result\n",
    "\n",
    "def compute_frequency_antinodes_2(nodes, data):\n",
    "    result = set()\n",
    "    if len(nodes) > 1:\n",
    "        for i in range(len(nodes) - 1):\n",
    "            for j in range(i + 1, len(nodes)):\n",
    "                result = result.union(compute_antinode_coordinates_2(nodes[i], nodes[j], data))\n",
    "    return result"
   ]
  },
  {
   "cell_type": "code",
   "execution_count": 20,
   "metadata": {
    "executionInfo": {
     "elapsed": 4,
     "status": "ok",
     "timestamp": 1734389435582,
     "user": {
      "displayName": "luca tramonti",
      "userId": "04545773391778520589"
     },
     "user_tz": -60
    },
    "id": "c6t1yL1Dl8rB"
   },
   "outputs": [],
   "source": [
    "antinode_coordinates = dict()\n",
    "accepted_antinodes = set()\n",
    "\n",
    "for frequency, nodes in frequencies_coordinates_dict.items():\n",
    "    antinodes = compute_frequency_antinodes_2(nodes, data)\n",
    "    antinode_coordinates[frequency] = antinodes\n",
    "    accepted_antinodes = accepted_antinodes.union(antinodes)\n",
    "\n",
    "accepted_antinodes = list(accepted_antinodes)"
   ]
  },
  {
   "cell_type": "code",
   "execution_count": 21,
   "metadata": {
    "colab": {
     "base_uri": "https://localhost:8080/"
    },
    "executionInfo": {
     "elapsed": 243,
     "status": "ok",
     "timestamp": 1734389456509,
     "user": {
      "displayName": "luca tramonti",
      "userId": "04545773391778520589"
     },
     "user_tz": -60
    },
    "id": "hKI8lz10mD5f",
    "outputId": "e759aab7-4e83-4963-ad82-2cb398cd1b4e"
   },
   "outputs": [
    {
     "name": "stdout",
     "output_type": "stream",
     "text": [
      "solution = 1263\n"
     ]
    }
   ],
   "source": [
    "solution = len(accepted_antinodes)\n",
    "print(f'{solution = }')"
   ]
  },
  {
   "cell_type": "code",
   "execution_count": null,
   "metadata": {
    "id": "Y5YPegSNqtwl"
   },
   "outputs": [],
   "source": []
  }
 ],
 "metadata": {
  "colab": {
   "authorship_tag": "ABX9TyMeUr8OuEt8nOOfH2ZEBODL",
   "provenance": []
  },
  "kernelspec": {
   "display_name": ".venv",
   "language": "python",
   "name": "python3"
  },
  "language_info": {
   "codemirror_mode": {
    "name": "ipython",
    "version": 3
   },
   "file_extension": ".py",
   "mimetype": "text/x-python",
   "name": "python",
   "nbconvert_exporter": "python",
   "pygments_lexer": "ipython3",
   "version": "3.13.1"
  }
 },
 "nbformat": 4,
 "nbformat_minor": 0
}
