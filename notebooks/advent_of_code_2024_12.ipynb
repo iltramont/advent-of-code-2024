{
 "cells": [
  {
   "cell_type": "markdown",
   "metadata": {
    "id": "f3ctCOOUfTCG"
   },
   "source": [
    "problem: https://adventofcode.com/2024/day/12"
   ]
  },
  {
   "cell_type": "code",
   "execution_count": 1,
   "metadata": {
    "executionInfo": {
     "elapsed": 622,
     "status": "ok",
     "timestamp": 1735057348106,
     "user": {
      "displayName": "luca tramonti",
      "userId": "04545773391778520589"
     },
     "user_tz": -60
    },
    "id": "bjljVTRFfKTW"
   },
   "outputs": [],
   "source": [
    "import numpy as np\n",
    "import os\n",
    "\n",
    "DIRECTIONS = (\n",
    "    (1, 0),\n",
    "    (0, 1),\n",
    "    (-1, 0),\n",
    "    (0, -1)\n",
    ")"
   ]
  },
  {
   "cell_type": "code",
   "execution_count": 2,
   "metadata": {
    "executionInfo": {
     "elapsed": 4,
     "status": "ok",
     "timestamp": 1735057348912,
     "user": {
      "displayName": "luca tramonti",
      "userId": "04545773391778520589"
     },
     "user_tz": -60
    },
    "id": "8iAdkCQipAHA"
   },
   "outputs": [],
   "source": [
    "rows = []\n",
    "problem_number = 12\n",
    "path = os.path.join('..', 'data', f'problem{problem_number}_data.txt')\n",
    "with open(path, 'r') as file:\n",
    "  for row in file:\n",
    "    rows.append(list(row.strip()))\n",
    "data = np.array(rows)"
   ]
  },
  {
   "cell_type": "code",
   "execution_count": 4,
   "metadata": {
    "colab": {
     "base_uri": "https://localhost:8080/"
    },
    "executionInfo": {
     "elapsed": 4,
     "status": "ok",
     "timestamp": 1735057348912,
     "user": {
      "displayName": "luca tramonti",
      "userId": "04545773391778520589"
     },
     "user_tz": -60
    },
    "id": "c274GHnfpDNg",
    "outputId": "9f3017bc-16ed-49a1-c21b-dde3bc824902"
   },
   "outputs": [
    {
     "data": {
      "text/plain": [
       "array([['T', 'T', 'T', ..., 'H', 'H', 'H'],\n",
       "       ['T', 'T', 'T', ..., 'H', 'H', 'H'],\n",
       "       ['T', 'T', 'T', ..., 'H', 'H', 'H'],\n",
       "       ...,\n",
       "       ['T', 'T', 'T', ..., 'Q', 'Q', 'Q'],\n",
       "       ['T', 'T', 'T', ..., 'Q', 'Q', 'Q'],\n",
       "       ['T', 'T', 'T', ..., 'Q', 'Q', 'Q']], shape=(140, 140), dtype='<U1')"
      ]
     },
     "metadata": {},
     "output_type": "display_data"
    }
   ],
   "source": [
    "display(data)"
   ]
  },
  {
   "cell_type": "markdown",
   "metadata": {},
   "source": [
    "**Part 1**"
   ]
  },
  {
   "cell_type": "code",
   "execution_count": 5,
   "metadata": {
    "executionInfo": {
     "elapsed": 2,
     "status": "ok",
     "timestamp": 1735057349174,
     "user": {
      "displayName": "luca tramonti",
      "userId": "04545773391778520589"
     },
     "user_tz": -60
    },
    "id": "WRbISBeeqB4H"
   },
   "outputs": [],
   "source": [
    "def add_tuples(x, y) -> tuple:\n",
    "    return (x[0] + y[0], x[1] + y[1])\n",
    "\n",
    "def tuple_is_valid(matrix, x):\n",
    "    return x[0] >= 0 and x[1] >= 0 and x[0] < matrix.shape[0] and x[1] < matrix.shape[1]"
   ]
  },
  {
   "cell_type": "code",
   "execution_count": 6,
   "metadata": {
    "executionInfo": {
     "elapsed": 1,
     "status": "ok",
     "timestamp": 1735057349174,
     "user": {
      "displayName": "luca tramonti",
      "userId": "04545773391778520589"
     },
     "user_tz": -60
    },
    "id": "8MQ7uJo_qv2-"
   },
   "outputs": [],
   "source": [
    "def spot_region(garden, start: tuple[int]) -> list[tuple[int]]:\n",
    "    plant_type = garden[start]\n",
    "    result = []\n",
    "    visited = []\n",
    "    to_be_checked = [start]\n",
    "    while len(to_be_checked) > 0:\n",
    "        plot = to_be_checked.pop(0)\n",
    "        visited.append(plot)\n",
    "        if garden[plot] == plant_type:\n",
    "            result.append(plot)\n",
    "            for direction in DIRECTIONS:\n",
    "                new_plot = add_tuples(plot, direction)\n",
    "                if tuple_is_valid(garden, new_plot) and new_plot not in visited and new_plot not in to_be_checked:\n",
    "                    to_be_checked.append(new_plot)\n",
    "    return result"
   ]
  },
  {
   "cell_type": "code",
   "execution_count": 7,
   "metadata": {
    "executionInfo": {
     "elapsed": 375,
     "status": "ok",
     "timestamp": 1735057351943,
     "user": {
      "displayName": "luca tramonti",
      "userId": "04545773391778520589"
     },
     "user_tz": -60
    },
    "id": "q4F_enFM26RS"
   },
   "outputs": [],
   "source": [
    "def region_perimeter(garden, region) -> int:\n",
    "    result = 0\n",
    "    plant_type = garden[region[0]]\n",
    "    for plot in region:\n",
    "        for direction in DIRECTIONS:\n",
    "            adiacent_plot = add_tuples(plot, direction)\n",
    "            if not tuple_is_valid(garden, adiacent_plot):\n",
    "                result += 1\n",
    "            elif garden[adiacent_plot] != plant_type:\n",
    "                result += 1\n",
    "            else:\n",
    "                continue\n",
    "    return result"
   ]
  },
  {
   "cell_type": "code",
   "execution_count": 8,
   "metadata": {
    "colab": {
     "base_uri": "https://localhost:8080/"
    },
    "executionInfo": {
     "elapsed": 9397,
     "status": "ok",
     "timestamp": 1735057361338,
     "user": {
      "displayName": "luca tramonti",
      "userId": "04545773391778520589"
     },
     "user_tz": -60
    },
    "id": "vuxtuET8ycvy",
    "outputId": "969ba931-93ed-48bf-ad52-5c0f4034d8f5"
   },
   "outputs": [
    {
     "name": "stdout",
     "output_type": "stream",
     "text": [
      "solution = 1518548\n"
     ]
    }
   ],
   "source": [
    "regions = []\n",
    "perimeters = []\n",
    "visited = []\n",
    "for i in range(data.shape[0]):\n",
    "    for j in range(data.shape[1]):\n",
    "        if (i, j) not in visited:\n",
    "            region = spot_region(data, (i, j))\n",
    "            regions.append(region)\n",
    "            visited.extend(region)\n",
    "            perimeters.append(region_perimeter(data, region))\n",
    "\n",
    "solution = 0\n",
    "for r, p in zip(regions, perimeters):\n",
    "    solution = solution + len(r) * p\n",
    "print(f'{solution = }')"
   ]
  },
  {
   "cell_type": "markdown",
   "metadata": {
    "id": "wB7qaZfdNYiH"
   },
   "source": [
    "**Part 2**"
   ]
  },
  {
   "cell_type": "code",
   "execution_count": 9,
   "metadata": {
    "executionInfo": {
     "elapsed": 236,
     "status": "ok",
     "timestamp": 1735061740529,
     "user": {
      "displayName": "luca tramonti",
      "userId": "04545773391778520589"
     },
     "user_tz": -60
    },
    "id": "KD-w8SInyt-H"
   },
   "outputs": [],
   "source": [
    "def region_perimeter(garden, region) -> list[tuple[tuple]]:\n",
    "    result = []\n",
    "    plant_type = garden[region[0]]\n",
    "    for plot in region:\n",
    "        for direction in DIRECTIONS:\n",
    "            adiacent_plot = add_tuples(plot, direction)\n",
    "            if not tuple_is_valid(garden, adiacent_plot):\n",
    "                result.append((plot, adiacent_plot))\n",
    "            elif garden[adiacent_plot] != plant_type:\n",
    "                result.append((plot, adiacent_plot))\n",
    "            else:\n",
    "                continue\n",
    "    return result\n",
    "\n",
    "def rotate_direction(d) -> tuple:\n",
    "    return (d[1], -d[0])\n",
    "\n",
    "def contiguous_sides(a, b, directions=DIRECTIONS) -> bool:\n",
    "    a1, a2 = a\n",
    "    b1, b2 = b\n",
    "    side_direction_1 = rotate_direction((a1[0] - a2[0], a1[1] - a2[1]))\n",
    "    side_direction_2 = (-side_direction_1[0], -side_direction_1[1])\n",
    "    for d in (side_direction_1, side_direction_2):\n",
    "        if b1 == add_tuples(a1, d) and b2 == add_tuples(a2, d):\n",
    "            return True\n",
    "    return False\n",
    "\n",
    "def stick_sides(sides):\n",
    "    if len(sides) < 2:\n",
    "        return sides\n",
    "    result = sides.copy()\n",
    "    go = True\n",
    "    while go:\n",
    "        go = False\n",
    "        for i in range(len(result)-1):\n",
    "            x = result[i]\n",
    "            for j in range(i+1, len(result)):\n",
    "                y = result[j]\n",
    "                if contiguous_sides(x[-1], y[0]):\n",
    "                    x.extend(y)\n",
    "                    go = True\n",
    "                    result.remove(y)\n",
    "                    break\n",
    "                elif contiguous_sides(y[-1], x[0]):\n",
    "                    y.extend(x)\n",
    "                    go = True\n",
    "                    result.remove(x)\n",
    "                    break\n",
    "    return result\n",
    "\n",
    "def perimeter_sides(perimeter) -> int:\n",
    "    sides = []\n",
    "    for p in perimeter:\n",
    "        if len(sides) == 0:\n",
    "            sides.append([p])\n",
    "        else:\n",
    "            inserted = False\n",
    "            for s in sides:\n",
    "                if contiguous_sides(s[0], p):\n",
    "                    s.insert(0, p)\n",
    "                    inserted = True\n",
    "                    break\n",
    "                elif contiguous_sides(s[-1], p):\n",
    "                    s.append(p)\n",
    "                    inserted = True\n",
    "                    break\n",
    "            if not inserted:\n",
    "                sides.append([p])\n",
    "    return len(stick_sides(sides))"
   ]
  },
  {
   "cell_type": "code",
   "execution_count": 10,
   "metadata": {
    "colab": {
     "base_uri": "https://localhost:8080/"
    },
    "executionInfo": {
     "elapsed": 6197,
     "status": "ok",
     "timestamp": 1735062058288,
     "user": {
      "displayName": "luca tramonti",
      "userId": "04545773391778520589"
     },
     "user_tz": -60
    },
    "id": "6TGw2RbsgjUG",
    "outputId": "b95d54b2-26c8-4683-eda8-c10176600409"
   },
   "outputs": [
    {
     "name": "stdout",
     "output_type": "stream",
     "text": [
      "solution = 909564\n"
     ]
    }
   ],
   "source": [
    "regions = []\n",
    "perimeters = []\n",
    "visited = []\n",
    "for i in range(data.shape[0]):\n",
    "    for j in range(data.shape[1]):\n",
    "        if (i, j) not in visited:\n",
    "            region = spot_region(data, (i, j))\n",
    "            regions.append(region)\n",
    "            visited.extend(region)\n",
    "            perimeters.append(region_perimeter(data, region))\n",
    "\n",
    "solution = 0\n",
    "for r, p in zip(regions, perimeters):\n",
    "    solution = solution + len(r) * perimeter_sides(p)\n",
    "print(f'{solution = }')"
   ]
  },
  {
   "cell_type": "code",
   "execution_count": null,
   "metadata": {
    "id": "qhXtBzCjwdnQ"
   },
   "outputs": [],
   "source": []
  }
 ],
 "metadata": {
  "colab": {
   "authorship_tag": "ABX9TyOEJ5K13vkYdmlFqhW/U2mH",
   "provenance": []
  },
  "kernelspec": {
   "display_name": ".venv",
   "language": "python",
   "name": "python3"
  },
  "language_info": {
   "codemirror_mode": {
    "name": "ipython",
    "version": 3
   },
   "file_extension": ".py",
   "mimetype": "text/x-python",
   "name": "python",
   "nbconvert_exporter": "python",
   "pygments_lexer": "ipython3",
   "version": "3.13.1"
  }
 },
 "nbformat": 4,
 "nbformat_minor": 0
}
