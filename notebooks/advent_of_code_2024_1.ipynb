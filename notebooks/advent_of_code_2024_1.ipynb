{
 "cells": [
  {
   "cell_type": "code",
   "execution_count": 1,
   "metadata": {
    "id": "Q3CM4LPwqKEh"
   },
   "outputs": [],
   "source": [
    "import pandas as pd\n",
    "import numpy as np"
   ]
  },
  {
   "cell_type": "markdown",
   "metadata": {
    "id": "vtrD4ahM2Tje"
   },
   "source": [
    "**Problem 1**"
   ]
  },
  {
   "cell_type": "code",
   "execution_count": null,
   "metadata": {
    "colab": {
     "base_uri": "https://localhost:8080/"
    },
    "executionInfo": {
     "elapsed": 2,
     "status": "ok",
     "timestamp": 1733846856483,
     "user": {
      "displayName": "luca tramonti",
      "userId": "04545773391778520589"
     },
     "user_tz": -60
    },
    "id": "SQ_cyiVUqjG3",
    "outputId": "b5088041-53fb-4b4e-afcf-875313c83dfe"
   },
   "outputs": [
    {
     "name": "stderr",
     "output_type": "stream",
     "text": [
      "<ipython-input-3-1bca35925e92>:1: ParserWarning: Falling back to the 'python' engine because the 'c' engine does not support regex separators (separators > 1 char and different from '\\s+' are interpreted as regex); you can avoid this warning by specifying engine='python'.\n",
      "  data = pd.read_csv('problem1_data.txt', names=['x', 'y'], sep='   ')\n"
     ]
    }
   ],
   "source": [
    "data = pd.read_csv('problem1_data.txt', names=['x', 'y'], sep='   ')"
   ]
  },
  {
   "cell_type": "code",
   "execution_count": null,
   "metadata": {
    "id": "AG2lPOI6swrX"
   },
   "outputs": [],
   "source": [
    "x = list(data.x)\n",
    "y = list(data.y)"
   ]
  },
  {
   "cell_type": "code",
   "execution_count": null,
   "metadata": {
    "id": "JXAfQkVjvgxc"
   },
   "outputs": [],
   "source": [
    "x.sort()\n",
    "y.sort()"
   ]
  },
  {
   "cell_type": "code",
   "execution_count": null,
   "metadata": {
    "id": "snbISEEwwQU_"
   },
   "outputs": [],
   "source": [
    "x = np.array(x)\n",
    "y = np.array(y)"
   ]
  },
  {
   "cell_type": "code",
   "execution_count": null,
   "metadata": {
    "id": "d3CRpNKBzaK1"
   },
   "outputs": [],
   "source": [
    "similarity_score = 0\n",
    "for n in x:\n",
    "  for m in y:\n",
    "    if n == m:\n",
    "      similarity_score += n"
   ]
  },
  {
   "cell_type": "code",
   "execution_count": null,
   "metadata": {
    "colab": {
     "base_uri": "https://localhost:8080/"
    },
    "executionInfo": {
     "elapsed": 281,
     "status": "ok",
     "timestamp": 1733846861098,
     "user": {
      "displayName": "luca tramonti",
      "userId": "04545773391778520589"
     },
     "user_tz": -60
    },
    "id": "EkbfbCeH0f_P",
    "outputId": "13da5a78-bde0-4363-d8bf-6c04a5c82f23"
   },
   "outputs": [
    {
     "name": "stdout",
     "output_type": "stream",
     "text": [
      "19097157\n"
     ]
    }
   ],
   "source": [
    "print(similarity_score)"
   ]
  },
  {
   "cell_type": "markdown",
   "metadata": {
    "id": "XGbgNhui2gO-"
   },
   "source": [
    "**Problem 2**\n",
    "\n",
    "--- Day 2: Red-Nosed Reports ---\n",
    "\n",
    "Fortunately, the first location The Historians want to search isn't a long walk from the Chief Historian's office.\n",
    "\n",
    "While the Red-Nosed Reindeer nuclear fusion/fission plant appears to contain no sign of the Chief Historian, the engineers there run up to you as soon as they see you. Apparently, they still talk about the time Rudolph was saved through molecular synthesis from a single electron.\n",
    "\n",
    "They're quick to add that - since you're already here - they'd really appreciate your help analyzing some unusual data from the Red-Nosed reactor. You turn to check if The Historians are waiting for you, but they seem to have already divided into groups that are currently searching every corner of the facility. You offer to help with the unusual data.\n",
    "\n",
    "The unusual data (your puzzle input) consists of many reports, one report per line. Each report is a list of numbers called levels that are separated by spaces. For example:\n",
    "\n",
    "7 6 4 2 1\n",
    "\n",
    "1 2 7 8 9\n",
    "\n",
    "9 7 6 2 1\n",
    "\n",
    "1 3 2 4 5\n",
    "\n",
    "8 6 4 4 1\n",
    "\n",
    "1 3 6 7 9\n",
    "\n",
    "This example data contains six reports each containing five levels.\n",
    "\n",
    "The engineers are trying to figure out which reports are safe. The Red-Nosed reactor safety systems can only tolerate levels that are either gradually increasing or gradually decreasing. So, a report only counts as safe if both of the following are true:\n",
    "\n",
    "The levels are either all increasing or all decreasing.\n",
    "Any two adjacent levels differ by at least one and at most three.\n",
    "In the example above, the reports can be found safe or unsafe by checking those rules:\n",
    "\n",
    "7 6 4 2 1: Safe because the levels are all decreasing by 1 or 2.\n",
    "\n",
    "1 2 7 8 9: Unsafe because 2 7 is an increase of 5.\n",
    "\n",
    "9 7 6 2 1: Unsafe because 6 2 is a decrease of 4.\n",
    "\n",
    "1 3 2 4 5: Unsafe because 1 3 is increasing but 3 2 is decreasing.\n",
    "\n",
    "8 6 4 4 1: Unsafe because 4 4 is neither an increase or a decrease.\n",
    "\n",
    "1 3 6 7 9: Safe because the levels are all increasing by 1, 2, or 3.\n",
    "\n",
    "So, in this example, 2 reports are safe.\n",
    "\n",
    "Analyze the unusual data from the engineers. How many reports are safe?\n",
    "\n",
    "\n",
    "Get the data here: https://adventofcode.com/2024/day/2/input"
   ]
  },
  {
   "cell_type": "code",
   "execution_count": null,
   "metadata": {
    "id": "jrwLdfsY2ftn"
   },
   "outputs": [],
   "source": [
    "reports = []\n",
    "with open('problem2_data.txt', 'r') as file:\n",
    "  for row in file:\n",
    "    reports.append(list(np.array(row.strip().split(), dtype=float)))"
   ]
  },
  {
   "cell_type": "code",
   "execution_count": null,
   "metadata": {
    "colab": {
     "base_uri": "https://localhost:8080/"
    },
    "executionInfo": {
     "elapsed": 2,
     "status": "ok",
     "timestamp": 1733846864055,
     "user": {
      "displayName": "luca tramonti",
      "userId": "04545773391778520589"
     },
     "user_tz": -60
    },
    "id": "Nzzukqpp6X5s",
    "outputId": "48ac518b-bba6-4fed-e482-eee4d7716643"
   },
   "outputs": [
    {
     "name": "stdout",
     "output_type": "stream",
     "text": [
      "5\n"
     ]
    }
   ],
   "source": [
    "min_len = 10\n",
    "for rep in reports:\n",
    "  if len(rep) < min_len:\n",
    "    min_len = len(rep)\n",
    "print(min_len)"
   ]
  },
  {
   "cell_type": "code",
   "execution_count": null,
   "metadata": {
    "id": "mDhehdR1DuqN"
   },
   "outputs": [],
   "source": [
    "def check_monotonic(report):\n",
    "  return (report == sorted(report)) or (report == sorted(report, reverse=True))"
   ]
  },
  {
   "cell_type": "code",
   "execution_count": null,
   "metadata": {
    "id": "FadZ7PPSF7Rm"
   },
   "outputs": [],
   "source": [
    "def check_differences(report):\n",
    "  if len(report) == 1:\n",
    "    return True\n",
    "  else:\n",
    "    for i in range(1, len(report)):\n",
    "      if (abs(report[i-1] - report[i]) < 1) or (abs(report[i-1] - report[i]) > 3):\n",
    "        return False\n",
    "    return True"
   ]
  },
  {
   "cell_type": "code",
   "execution_count": null,
   "metadata": {
    "id": "fvc1i8AR-ik9"
   },
   "outputs": [],
   "source": [
    "def report_is_safe(report):\n",
    "  report_length = len(report)\n",
    "  if report_length == 1:\n",
    "    return True\n",
    "  elif report_length == 2:\n",
    "    return check_differences(report)\n",
    "  else:\n",
    "    return (check_monotonic(report) and check_differences(report))"
   ]
  },
  {
   "cell_type": "code",
   "execution_count": null,
   "metadata": {
    "colab": {
     "base_uri": "https://localhost:8080/"
    },
    "executionInfo": {
     "elapsed": 571,
     "status": "ok",
     "timestamp": 1733846869444,
     "user": {
      "displayName": "luca tramonti",
      "userId": "04545773391778520589"
     },
     "user_tz": -60
    },
    "id": "cn1IJnUpEoZU",
    "outputId": "3fe7e0a3-657b-4179-e231-81934eda7490"
   },
   "outputs": [
    {
     "name": "stdout",
     "output_type": "stream",
     "text": [
      "252\n"
     ]
    }
   ],
   "source": [
    "number_of_safe_reports = 0\n",
    "for report in reports:\n",
    "  if report_is_safe(report):\n",
    "    number_of_safe_reports += 1\n",
    "\n",
    "print(number_of_safe_reports)"
   ]
  },
  {
   "cell_type": "markdown",
   "metadata": {
    "id": "JcmB0JmUVF9E"
   },
   "source": [
    "--- Part Two ---\n",
    "\n",
    "The engineers are surprised by the low number of safe reports until they realize they forgot to tell you about the Problem Dampener.\n",
    "\n",
    "The Problem Dampener is a reactor-mounted module that lets the reactor safety systems tolerate a single bad level in what would otherwise be a safe report. It's like the bad level never happened!\n",
    "\n",
    "Now, the same rules apply as before, except if removing a single level from an unsafe report would make it safe, the report instead counts as safe.\n",
    "\n",
    "More of the above example's reports are now safe:\n",
    "\n",
    "7 6 4 2 1: Safe without removing any level.\n",
    "\n",
    "1 2 7 8 9: Unsafe regardless of which level is removed.\n",
    "\n",
    "9 7 6 2 1: Unsafe regardless of which level is removed.\n",
    "\n",
    "1 3 2 4 5: Safe by removing the second level, 3.\n",
    "\n",
    "8 6 4 4 1: Safe by removing the third level, 4.\n",
    "\n",
    "1 3 6 7 9: Safe without removing any level.\n",
    "\n",
    "Thanks to the Problem Dampener, 4 reports are actually safe!\n",
    "\n",
    "Update your analysis by handling situations where the Problem Dampener can remove a single level from unsafe reports. How many reports are now safe?"
   ]
  },
  {
   "cell_type": "code",
   "execution_count": null,
   "metadata": {
    "id": "Zjh50oayVbwa"
   },
   "outputs": [],
   "source": [
    "def remove_and_check(report):\n",
    "    for i in range(len(report)):\n",
    "        new_report = report[:i] + report[i+1:]\n",
    "        if report_is_safe(new_report):\n",
    "            return True\n",
    "    return False"
   ]
  },
  {
   "cell_type": "code",
   "execution_count": null,
   "metadata": {
    "id": "Nn0Jp7rrWIA5"
   },
   "outputs": [],
   "source": [
    "def report_is_safe_2(report):\n",
    "    if report_is_safe(report):\n",
    "        return True\n",
    "    else:\n",
    "        return remove_and_check(report)"
   ]
  },
  {
   "cell_type": "code",
   "execution_count": null,
   "metadata": {
    "colab": {
     "base_uri": "https://localhost:8080/"
    },
    "executionInfo": {
     "elapsed": 274,
     "status": "ok",
     "timestamp": 1733849947968,
     "user": {
      "displayName": "luca tramonti",
      "userId": "04545773391778520589"
     },
     "user_tz": -60
    },
    "id": "9rFJgh9egDt5",
    "outputId": "18e7102a-9ca4-47ad-c773-5aac2ab6dd2d"
   },
   "outputs": [
    {
     "name": "stdout",
     "output_type": "stream",
     "text": [
      "324\n"
     ]
    }
   ],
   "source": [
    "number_of_safe_reports_2 = 0\n",
    "for report in reports:\n",
    "  if report_is_safe_2(report):\n",
    "    number_of_safe_reports_2 += 1\n",
    "\n",
    "print(number_of_safe_reports_2)"
   ]
  }
 ],
 "metadata": {
  "colab": {
   "authorship_tag": "ABX9TyOe4H5tkpeY00rBItpdCexa",
   "provenance": []
  },
  "kernelspec": {
   "display_name": ".venv",
   "language": "python",
   "name": "python3"
  },
  "language_info": {
   "codemirror_mode": {
    "name": "ipython",
    "version": 3
   },
   "file_extension": ".py",
   "mimetype": "text/x-python",
   "name": "python",
   "nbconvert_exporter": "python",
   "pygments_lexer": "ipython3",
   "version": "3.13.1"
  }
 },
 "nbformat": 4,
 "nbformat_minor": 0
}
