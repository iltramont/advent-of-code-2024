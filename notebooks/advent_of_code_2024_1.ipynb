{
 "cells": [
  {
   "cell_type": "markdown",
   "metadata": {
    "id": "vtrD4ahM2Tje"
   },
   "source": [
    "Problem: https://adventofcode.com/2024/day/1"
   ]
  },
  {
   "cell_type": "code",
   "execution_count": 20,
   "metadata": {
    "id": "Q3CM4LPwqKEh"
   },
   "outputs": [],
   "source": [
    "import pandas as pd\n",
    "import numpy as np\n",
    "import os"
   ]
  },
  {
   "cell_type": "code",
   "execution_count": 21,
   "metadata": {
    "colab": {
     "base_uri": "https://localhost:8080/"
    },
    "executionInfo": {
     "elapsed": 2,
     "status": "ok",
     "timestamp": 1733846856483,
     "user": {
      "displayName": "luca tramonti",
      "userId": "04545773391778520589"
     },
     "user_tz": -60
    },
    "id": "SQ_cyiVUqjG3",
    "outputId": "b5088041-53fb-4b4e-afcf-875313c83dfe"
   },
   "outputs": [
    {
     "name": "stdout",
     "output_type": "stream",
     "text": [
      "       x      y\n",
      "0  58990  83989\n",
      "1  26183  15707\n",
      "2  48195  12659\n",
      "3  20176  26012\n",
      "4  26730  42699\n"
     ]
    }
   ],
   "source": [
    "problem_number = 1\n",
    "path = os.path.join('..', 'data', f'problem{problem_number}_data.txt')\n",
    "data = pd.read_csv(path, names=['x', 'y'], sep='   ', engine='python')\n",
    "print(data.head())"
   ]
  },
  {
   "cell_type": "markdown",
   "metadata": {},
   "source": [
    "**Part 1**"
   ]
  },
  {
   "cell_type": "code",
   "execution_count": 22,
   "metadata": {
    "id": "AG2lPOI6swrX"
   },
   "outputs": [],
   "source": [
    "x = list(data.x)\n",
    "y = list(data.y)\n",
    "x.sort()\n",
    "y.sort()\n",
    "x = np.array(x)\n",
    "y = np.array(y)"
   ]
  },
  {
   "cell_type": "code",
   "execution_count": 23,
   "metadata": {},
   "outputs": [
    {
     "name": "stdout",
     "output_type": "stream",
     "text": [
      "solution = 2113135\n"
     ]
    }
   ],
   "source": [
    "solution = np.abs(x - y).sum().item()\n",
    "print(f'{solution = }')"
   ]
  },
  {
   "cell_type": "markdown",
   "metadata": {},
   "source": [
    "**Part 2**"
   ]
  },
  {
   "cell_type": "code",
   "execution_count": 24,
   "metadata": {
    "id": "d3CRpNKBzaK1"
   },
   "outputs": [],
   "source": [
    "similarity_score = 0\n",
    "for n in x:\n",
    "  for m in y:\n",
    "    if n == m:\n",
    "      similarity_score += n"
   ]
  },
  {
   "cell_type": "code",
   "execution_count": 25,
   "metadata": {
    "colab": {
     "base_uri": "https://localhost:8080/"
    },
    "executionInfo": {
     "elapsed": 281,
     "status": "ok",
     "timestamp": 1733846861098,
     "user": {
      "displayName": "luca tramonti",
      "userId": "04545773391778520589"
     },
     "user_tz": -60
    },
    "id": "EkbfbCeH0f_P",
    "outputId": "13da5a78-bde0-4363-d8bf-6c04a5c82f23"
   },
   "outputs": [
    {
     "name": "stdout",
     "output_type": "stream",
     "text": [
      "solution = 19097157\n"
     ]
    }
   ],
   "source": [
    "print(f'solution = {similarity_score}')"
   ]
  }
 ],
 "metadata": {
  "colab": {
   "authorship_tag": "ABX9TyOe4H5tkpeY00rBItpdCexa",
   "provenance": []
  },
  "kernelspec": {
   "display_name": ".venv",
   "language": "python",
   "name": "python3"
  },
  "language_info": {
   "codemirror_mode": {
    "name": "ipython",
    "version": 3
   },
   "file_extension": ".py",
   "mimetype": "text/x-python",
   "name": "python",
   "nbconvert_exporter": "python",
   "pygments_lexer": "ipython3",
   "version": "3.13.1"
  }
 },
 "nbformat": 4,
 "nbformat_minor": 0
}
