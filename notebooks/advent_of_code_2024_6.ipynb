{
 "cells": [
  {
   "cell_type": "markdown",
   "metadata": {
    "id": "IPG8pjdJgpHK"
   },
   "source": [
    "problem: https://adventofcode.com/2024/day/6"
   ]
  },
  {
   "cell_type": "markdown",
   "metadata": {
    "id": "WGEy7xphg0UA"
   },
   "source": [
    "**Part 1**"
   ]
  },
  {
   "cell_type": "code",
   "execution_count": 28,
   "metadata": {
    "executionInfo": {
     "elapsed": 204,
     "status": "ok",
     "timestamp": 1734247293316,
     "user": {
      "displayName": "luca tramonti",
      "userId": "04545773391778520589"
     },
     "user_tz": -60
    },
    "id": "zMbjQJxHgWLP"
   },
   "outputs": [],
   "source": [
    "import numpy as np\n",
    "import os"
   ]
  },
  {
   "cell_type": "code",
   "execution_count": 29,
   "metadata": {
    "executionInfo": {
     "elapsed": 781,
     "status": "ok",
     "timestamp": 1734247294814,
     "user": {
      "displayName": "luca tramonti",
      "userId": "04545773391778520589"
     },
     "user_tz": -60
    },
    "id": "d34VA6rmhCDp"
   },
   "outputs": [],
   "source": [
    "problem_number = 6\n",
    "path = os.path.join('..', 'data', f'problem{problem_number}_data.txt')\n",
    "rows = []\n",
    "with open(path, 'r') as file:\n",
    "  for row in file:\n",
    "    rows.append(np.array(list(row.strip())))\n",
    "\n",
    "data = np.array(rows)"
   ]
  },
  {
   "cell_type": "code",
   "execution_count": 30,
   "metadata": {
    "colab": {
     "base_uri": "https://localhost:8080/"
    },
    "executionInfo": {
     "elapsed": 310,
     "status": "ok",
     "timestamp": 1734247295672,
     "user": {
      "displayName": "luca tramonti",
      "userId": "04545773391778520589"
     },
     "user_tz": -60
    },
    "id": "l4yXwlaThQUE",
    "outputId": "de8e2817-6f24-46c5-e65b-c88c1a90919d"
   },
   "outputs": [
    {
     "name": "stdout",
     "output_type": "stream",
     "text": [
      "data.shape = (130, 130)\n",
      "[['.' '.' '.' '.' '.' '.' '.' '.' '.' '.' '.' '.' '.' '.' '.']\n",
      " ['.' '.' '.' '.' '.' '.' '.' '.' '.' '.' '.' '.' '.' '#' '.']\n",
      " ['.' '.' '.' '.' '.' '.' '.' '.' '.' '.' '.' '.' '.' '.' '.']\n",
      " ['.' '.' '.' '.' '.' '.' '.' '.' '.' '.' '.' '.' '.' '.' '.']\n",
      " ['.' '.' '.' '.' '.' '.' '.' '.' '.' '.' '.' '.' '.' '.' '.']\n",
      " ['.' '.' '.' '.' '.' '.' '.' '.' '.' '.' '.' '.' '.' '.' '.']\n",
      " ['.' '.' '#' '#' '.' '.' '.' '.' '.' '.' '.' '#' '.' '.' '.']\n",
      " ['.' '.' '.' '.' '.' '#' '.' '.' '.' '.' '.' '.' '.' '.' '.']\n",
      " ['.' '.' '.' '.' '.' '.' '.' '.' '.' '.' '#' '.' '.' '#' '.']\n",
      " ['.' '.' '.' '.' '.' '.' '.' '.' '.' '.' '.' '.' '.' '.' '.']\n",
      " ['.' '.' '.' '.' '.' '.' '.' '#' '.' '#' '.' '.' '.' '.' '.']\n",
      " ['.' '.' '.' '.' '.' '.' '.' '.' '.' '.' '.' '.' '.' '.' '.']\n",
      " ['.' '.' '.' '.' '.' '.' '.' '.' '.' '.' '.' '.' '.' '.' '.']\n",
      " ['.' '.' '.' '.' '.' '.' '.' '.' '.' '.' '.' '.' '.' '.' '.']\n",
      " ['#' '.' '.' '.' '.' '.' '.' '.' '.' '.' '.' '.' '.' '.' '.']]\n"
     ]
    }
   ],
   "source": [
    "print(f'{data.shape = }')\n",
    "print(data[:15, :15])"
   ]
  },
  {
   "cell_type": "code",
   "execution_count": 31,
   "metadata": {
    "executionInfo": {
     "elapsed": 229,
     "status": "ok",
     "timestamp": 1734247301091,
     "user": {
      "displayName": "luca tramonti",
      "userId": "04545773391778520589"
     },
     "user_tz": -60
    },
    "id": "Msg7lOHQwMGR"
   },
   "outputs": [],
   "source": [
    "DIRECTIONS = {\n",
    "    '^': (-1, 0),\n",
    "    'v': (1, 0),\n",
    "    '>': (0, 1),\n",
    "    '<': (0, -1)\n",
    "}"
   ]
  },
  {
   "cell_type": "markdown",
   "metadata": {},
   "source": [
    "**Part 1**"
   ]
  },
  {
   "cell_type": "code",
   "execution_count": 32,
   "metadata": {
    "executionInfo": {
     "elapsed": 244,
     "status": "ok",
     "timestamp": 1734247309990,
     "user": {
      "displayName": "luca tramonti",
      "userId": "04545773391778520589"
     },
     "user_tz": -60
    },
    "id": "fFssJxXYheBn"
   },
   "outputs": [],
   "source": [
    "def find_arrow(matrix) -> tuple[tuple[int]]:\n",
    "    for i in range(matrix.shape[0]):\n",
    "        for j in range(matrix.shape[1]):\n",
    "            if matrix[i, j] in '<>^v':\n",
    "                state = (i, j)\n",
    "                direction = DIRECTIONS[matrix[i, j]]\n",
    "                return (state, direction)"
   ]
  },
  {
   "cell_type": "code",
   "execution_count": 33,
   "metadata": {},
   "outputs": [
    {
     "name": "stdout",
     "output_type": "stream",
     "text": [
      "[['.' '.' '.' '.' '.' '.' '.' '.' '.' '.' '.']\n",
      " ['.' '.' '.' '.' '.' '.' '.' '.' '.' '.' '.']\n",
      " ['.' '.' '.' '.' '.' '.' '.' '.' '.' '.' '.']\n",
      " ['.' '.' '.' '.' '.' '.' '.' '.' '.' '.' '.']\n",
      " ['.' '.' '.' '.' '.' '.' '.' '.' '.' '.' '.']\n",
      " ['.' '.' '.' '.' '#' '^' '.' '.' '.' '.' '.']\n",
      " ['.' '.' '.' '.' '.' '.' '.' '.' '.' '.' '.']\n",
      " ['.' '.' '.' '.' '.' '.' '.' '.' '.' '.' '.']\n",
      " ['.' '.' '.' '#' '.' '.' '#' '.' '.' '.' '.']\n",
      " ['.' '.' '.' '.' '.' '.' '.' '.' '.' '.' '.']\n",
      " ['.' '.' '.' '.' '.' '.' '#' '.' '.' '.' '.']]\n",
      "si = 43\n",
      "sj = 37\n",
      "direction = (-1, 0)\n"
     ]
    }
   ],
   "source": [
    "# Starting point and direction\n",
    "(si, sj), direction = find_arrow(data)\n",
    "print(data[max(0, si-5):min(si+6, data.shape[0]), max(0, sj-5):min(sj+6, data.shape[1])])\n",
    "print(f'{si = }\\n{sj = }\\n{direction = }')"
   ]
  },
  {
   "cell_type": "code",
   "execution_count": 34,
   "metadata": {
    "executionInfo": {
     "elapsed": 235,
     "status": "ok",
     "timestamp": 1734247392922,
     "user": {
      "displayName": "luca tramonti",
      "userId": "04545773391778520589"
     },
     "user_tz": -60
    },
    "id": "Gf8X6NBCyyBg"
   },
   "outputs": [],
   "source": [
    "def add_tuples(x, y) -> tuple:\n",
    "    return (x[0] + y[0], x[1] + y[1])\n",
    "\n",
    "def rotate_direction(d) -> tuple:\n",
    "    return (d[1], -d[0])"
   ]
  },
  {
   "cell_type": "code",
   "execution_count": 35,
   "metadata": {
    "executionInfo": {
     "elapsed": 328,
     "status": "ok",
     "timestamp": 1734247395682,
     "user": {
      "displayName": "luca tramonti",
      "userId": "04545773391778520589"
     },
     "user_tz": -60
    },
    "id": "oq5GzNhrrkzh"
   },
   "outputs": [],
   "source": [
    "def move_1(matrix, initial_state, direction) -> (tuple[int], tuple[int], bool):\n",
    "    can_move = False\n",
    "    while not can_move:\n",
    "        final_state = add_tuples(initial_state, direction)\n",
    "        if final_state[0] < 0 or final_state[0] >= matrix.shape[0] or final_state[1] < 0 or final_state[1] >= matrix.shape[1]:\n",
    "            return initial_state, direction, True\n",
    "        if matrix[final_state] == '#':\n",
    "            direction = rotate_direction(direction)\n",
    "        else:\n",
    "            can_move = True\n",
    "    return (final_state, direction, False)"
   ]
  },
  {
   "cell_type": "code",
   "execution_count": 36,
   "metadata": {
    "executionInfo": {
     "elapsed": 182,
     "status": "ok",
     "timestamp": 1734248382974,
     "user": {
      "displayName": "luca tramonti",
      "userId": "04545773391778520589"
     },
     "user_tz": -60
    },
    "id": "5bw-mn1er4Hs"
   },
   "outputs": [],
   "source": [
    "def count_moves(matrix) -> tuple[int, list[int]]:\n",
    "    visited_cells = []\n",
    "    counter = 1\n",
    "    m = matrix.copy()\n",
    "    state, direction = find_arrow(m)\n",
    "    visited_cells.append(state)\n",
    "    m[state] = 'X'\n",
    "    terminated = False\n",
    "    # Assumption: the cycle eventually ends\n",
    "    while not terminated:\n",
    "        state, direction, terminated = move_1(m, state, direction)\n",
    "        if terminated:\n",
    "            return counter, visited_cells\n",
    "        else:\n",
    "            if m[state] != 'X':\n",
    "                counter += 1\n",
    "                m[state] = 'X'\n",
    "                visited_cells.append(state)"
   ]
  },
  {
   "cell_type": "code",
   "execution_count": 37,
   "metadata": {
    "colab": {
     "base_uri": "https://localhost:8080/"
    },
    "executionInfo": {
     "elapsed": 182,
     "status": "ok",
     "timestamp": 1734248384754,
     "user": {
      "displayName": "luca tramonti",
      "userId": "04545773391778520589"
     },
     "user_tz": -60
    },
    "id": "lhIa6VyAr5Bj",
    "outputId": "18bf1e59-d933-48ef-d0c9-d5009766737b"
   },
   "outputs": [
    {
     "name": "stdout",
     "output_type": "stream",
     "text": [
      "solution = 5318\n"
     ]
    }
   ],
   "source": [
    "solution, visited_cells = count_moves(data)\n",
    "print(f'{solution = }')"
   ]
  },
  {
   "cell_type": "markdown",
   "metadata": {
    "id": "EOWG7QnjM1bW"
   },
   "source": [
    "**Part 2**"
   ]
  },
  {
   "cell_type": "code",
   "execution_count": 38,
   "metadata": {
    "executionInfo": {
     "elapsed": 205,
     "status": "ok",
     "timestamp": 1734248770434,
     "user": {
      "displayName": "luca tramonti",
      "userId": "04545773391778520589"
     },
     "user_tz": -60
    },
    "id": "WtNXhX568IDW"
   },
   "outputs": [],
   "source": [
    "def check_loop(matrix, initial_state, initial_direction) -> bool:\n",
    "    visited_cells = []\n",
    "    visited_cells.append((initial_state, initial_direction))\n",
    "    terminated = False\n",
    "    state = initial_state\n",
    "    direction = initial_direction\n",
    "    while not terminated:\n",
    "        state, direction, terminated = move_1(matrix, state, direction)\n",
    "        if terminated:\n",
    "            return False\n",
    "        else:\n",
    "            if (state, direction) in visited_cells:\n",
    "                return True\n",
    "            else:\n",
    "                visited_cells.append((state, direction))"
   ]
  },
  {
   "cell_type": "code",
   "execution_count": null,
   "metadata": {
    "colab": {
     "base_uri": "https://localhost:8080/"
    },
    "executionInfo": {
     "elapsed": 1626025,
     "status": "ok",
     "timestamp": 1734251058480,
     "user": {
      "displayName": "luca tramonti",
      "userId": "04545773391778520589"
     },
     "user_tz": -60
    },
    "id": "9Fkulat_SClT",
    "outputId": "e896248c-14da-4aba-8007-c54aed14d557"
   },
   "outputs": [
    {
     "name": "stdout",
     "output_type": "stream",
     "text": [
      "solution = 1831\n"
     ]
    }
   ],
   "source": [
    "# Takes some\n",
    "solution = 0\n",
    "for cell in set(visited_cells):\n",
    "    m = data.copy()\n",
    "    if cell == (si, sj):\n",
    "        continue\n",
    "    else:\n",
    "        m[cell] = '#'\n",
    "        if check_loop(m, (si, sj), direction):\n",
    "            solution += 1\n",
    "            #print(solution)\n",
    "\n",
    "print(f'{solution = }')"
   ]
  },
  {
   "cell_type": "code",
   "execution_count": null,
   "metadata": {
    "id": "v30n6nxSSEH3"
   },
   "outputs": [],
   "source": []
  }
 ],
 "metadata": {
  "colab": {
   "authorship_tag": "ABX9TyPDSlYqzoDsXvJwtNI5eLBh",
   "provenance": []
  },
  "kernelspec": {
   "display_name": ".venv",
   "language": "python",
   "name": "python3"
  },
  "language_info": {
   "codemirror_mode": {
    "name": "ipython",
    "version": 3
   },
   "file_extension": ".py",
   "mimetype": "text/x-python",
   "name": "python",
   "nbconvert_exporter": "python",
   "pygments_lexer": "ipython3",
   "version": "3.13.1"
  }
 },
 "nbformat": 4,
 "nbformat_minor": 0
}
