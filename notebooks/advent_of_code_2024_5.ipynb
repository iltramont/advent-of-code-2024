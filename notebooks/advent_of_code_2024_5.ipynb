{
 "cells": [
  {
   "cell_type": "markdown",
   "metadata": {
    "id": "a1nn1QzyI7KT"
   },
   "source": [
    "problem: https://adventofcode.com/2024/day/5"
   ]
  },
  {
   "cell_type": "markdown",
   "metadata": {
    "id": "PYwyefNUJ0Qf"
   },
   "source": [
    "**Part 1**"
   ]
  },
  {
   "cell_type": "code",
   "execution_count": 13,
   "metadata": {
    "id": "aIz9p_oMOB2S"
   },
   "outputs": [],
   "source": [
    "import numpy as np\n",
    "import os"
   ]
  },
  {
   "cell_type": "code",
   "execution_count": 14,
   "metadata": {
    "id": "wiqp-biDIyhP"
   },
   "outputs": [],
   "source": [
    "problem_number = 5\n",
    "path = os.path.join('..', 'data', f'problem{problem_number}_data.txt')\n",
    "rows = []\n",
    "with open(path, 'r') as file:\n",
    "  for row in file:\n",
    "    rows.append(row.strip())\n",
    "\n",
    "rules = []\n",
    "updates = []\n",
    "for row in rows:\n",
    "    if '|' in row:\n",
    "        rules.append(tuple(np.array(row.split('|'), dtype=int)))\n",
    "    elif row == '':\n",
    "        continue\n",
    "    else:\n",
    "        updates.append(tuple(np.array(row.split(','), dtype=int)))"
   ]
  },
  {
   "cell_type": "code",
   "execution_count": 15,
   "metadata": {
    "id": "vNKeEkUKKIDb"
   },
   "outputs": [],
   "source": [
    "def check_update(update, rules) -> bool:\n",
    "    for i in range(0, len(update)):\n",
    "        for j in range(i+1, len(update)):\n",
    "            pair = (update[j], update[i])\n",
    "            if pair in rules:\n",
    "                return False\n",
    "    return True\n",
    "\n",
    "\n",
    "def check_and_sum(updates, rules) -> int:\n",
    "    result = 0\n",
    "    for up in updates:\n",
    "        if check_update(up, rules):\n",
    "            result += up[len(up)//2]\n",
    "    return result"
   ]
  },
  {
   "cell_type": "code",
   "execution_count": 16,
   "metadata": {
    "colab": {
     "base_uri": "https://localhost:8080/"
    },
    "executionInfo": {
     "elapsed": 741,
     "status": "ok",
     "timestamp": 1734037857388,
     "user": {
      "displayName": "luca tramonti",
      "userId": "04545773391778520589"
     },
     "user_tz": -60
    },
    "id": "Phwkut2FaLg-",
    "outputId": "d6d6f3e3-256c-4ffe-c3db-d8c7225b7a02"
   },
   "outputs": [
    {
     "name": "stdout",
     "output_type": "stream",
     "text": [
      "solution = 6041\n"
     ]
    }
   ],
   "source": [
    "solution = check_and_sum(updates, rules).item()\n",
    "print(f'{solution = }')"
   ]
  },
  {
   "cell_type": "markdown",
   "metadata": {
    "id": "BDFrWC-6u_RW"
   },
   "source": [
    "**Part 2**\n"
   ]
  },
  {
   "cell_type": "code",
   "execution_count": 17,
   "metadata": {
    "id": "jxG7Tl-rcwf7"
   },
   "outputs": [],
   "source": [
    "incorrect_updates = []\n",
    "for up in updates:\n",
    "    if not check_update(up, rules):\n",
    "        incorrect_updates.append(up)"
   ]
  },
  {
   "cell_type": "code",
   "execution_count": 18,
   "metadata": {
    "id": "rp8NT1X0vpCG"
   },
   "outputs": [],
   "source": [
    "def add_page(page, update, rules) -> None:\n",
    "    if update == []:\n",
    "        update.append(page)\n",
    "        return None\n",
    "    for i in range(len(update)):\n",
    "        if (page, update[i]) in rules:\n",
    "            update.insert(i, page)\n",
    "            return None\n",
    "    update.append(page)\n",
    "    return None\n",
    "\n",
    "\n",
    "def fix_update(update, rules):\n",
    "    result = []\n",
    "    for page in update:\n",
    "        add_page(page, result, rules)\n",
    "    return result"
   ]
  },
  {
   "cell_type": "code",
   "execution_count": 19,
   "metadata": {
    "id": "N9PfRIaFCGyn"
   },
   "outputs": [],
   "source": [
    "fixed_updates = []\n",
    "for update in incorrect_updates:\n",
    "    fixed_updates.append(fix_update(update, rules))"
   ]
  },
  {
   "cell_type": "code",
   "execution_count": 20,
   "metadata": {
    "colab": {
     "base_uri": "https://localhost:8080/"
    },
    "executionInfo": {
     "elapsed": 206,
     "status": "ok",
     "timestamp": 1734044535606,
     "user": {
      "displayName": "luca tramonti",
      "userId": "04545773391778520589"
     },
     "user_tz": -60
    },
    "id": "tT8Ha3GLCQ-y",
    "outputId": "96100c08-cdcd-47cf-ddf5-8ff4cb871c68"
   },
   "outputs": [
    {
     "name": "stdout",
     "output_type": "stream",
     "text": [
      "solution = np.int64(4884)\n"
     ]
    }
   ],
   "source": [
    "solution = 0\n",
    "for update in fixed_updates:\n",
    "    solution += update[len(update)//2]\n",
    "print(f'{solution = }')"
   ]
  },
  {
   "cell_type": "code",
   "execution_count": null,
   "metadata": {
    "id": "nRTKwtH1Dy7Y"
   },
   "outputs": [],
   "source": []
  }
 ],
 "metadata": {
  "colab": {
   "authorship_tag": "ABX9TyOPTAQcVNA8Qq/XcURmt/X7",
   "provenance": []
  },
  "kernelspec": {
   "display_name": ".venv",
   "language": "python",
   "name": "python3"
  },
  "language_info": {
   "codemirror_mode": {
    "name": "ipython",
    "version": 3
   },
   "file_extension": ".py",
   "mimetype": "text/x-python",
   "name": "python",
   "nbconvert_exporter": "python",
   "pygments_lexer": "ipython3",
   "version": "3.13.1"
  }
 },
 "nbformat": 4,
 "nbformat_minor": 0
}
