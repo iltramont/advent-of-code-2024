{
 "cells": [
  {
   "cell_type": "markdown",
   "metadata": {
    "id": "ksoqRjSmEBaz"
   },
   "source": [
    "problem: https://adventofcode.com/2024/day/3"
   ]
  },
  {
   "cell_type": "code",
   "execution_count": 19,
   "metadata": {},
   "outputs": [],
   "source": [
    "import os"
   ]
  },
  {
   "cell_type": "code",
   "execution_count": 20,
   "metadata": {
    "executionInfo": {
     "elapsed": 642,
     "status": "ok",
     "timestamp": 1733960665678,
     "user": {
      "displayName": "luca tramonti",
      "userId": "04545773391778520589"
     },
     "user_tz": -60
    },
    "id": "2vJzLP6YCy9z"
   },
   "outputs": [
    {
     "name": "stdout",
     "output_type": "stream",
     "text": [
      "}mul(620,236)where()*@}!&[mul(589,126)]&^]mul(260,42)when() when()$ ?{/^*mul(335,250)>,@!<{when()+-$\n"
     ]
    }
   ],
   "source": [
    "problem_number = 3\n",
    "path = os.path.join('..', 'data', f'problem{problem_number}_data.txt')\n",
    "rows = []\n",
    "with open(path, 'r') as file:\n",
    "  for row in file:\n",
    "    rows.append(row.strip())\n",
    "text = ''.join(rows)\n",
    "\n",
    "print(text[:100])"
   ]
  },
  {
   "cell_type": "markdown",
   "metadata": {
    "id": "3R3FC3l6JSYN"
   },
   "source": [
    "**Part 1**"
   ]
  },
  {
   "cell_type": "code",
   "execution_count": 21,
   "metadata": {
    "executionInfo": {
     "elapsed": 610,
     "status": "ok",
     "timestamp": 1733960670212,
     "user": {
      "displayName": "luca tramonti",
      "userId": "04545773391778520589"
     },
     "user_tz": -60
    },
    "id": "lzSZmkqvPng-"
   },
   "outputs": [],
   "source": [
    "def check_parenthesis_1(text: str, start: int, end: int) -> bool:\n",
    "    end = min(end, len(text)-1)\n",
    "    if (text[start] != '(') | (text[end] != ')'):\n",
    "        return False\n",
    "    if (text[start+1] == ',') | (text[end-1] == ','):\n",
    "        return False\n",
    "    if text[start+2:end-1].count(',') != 1:\n",
    "        return False\n",
    "    for t in text[start+2:end-1]:\n",
    "        if t not in '0123456789,':\n",
    "            return False\n",
    "    return True\n",
    "\n",
    "\n",
    "def check_parenthesis_2(text: str, start: int) -> (bool, int):\n",
    "    for l in range(4, 9):\n",
    "        if check_parenthesis_1(text, start, start+l):\n",
    "            return (True, start+l)\n",
    "    return (False, start)\n",
    "\n",
    "\n",
    "def detect_mul(text) -> list[str]:\n",
    "    result = []\n",
    "    for i in range(len(text)):\n",
    "        if text[i:i+3] == 'mul':\n",
    "            check, final_index = check_parenthesis_2(text, i+3)\n",
    "            if check:\n",
    "                result.append(text[i:final_index+1])\n",
    "    return result\n",
    "\n",
    "\n",
    "def compute_product(mul: str) -> int:\n",
    "    a, b = mul[4:-1].split(',')\n",
    "    return int(a) * int(b)"
   ]
  },
  {
   "cell_type": "code",
   "execution_count": 22,
   "metadata": {
    "executionInfo": {
     "elapsed": 460,
     "status": "ok",
     "timestamp": 1733962152000,
     "user": {
      "displayName": "luca tramonti",
      "userId": "04545773391778520589"
     },
     "user_tz": -60
    },
    "id": "rrKGVg5_Pb0A"
   },
   "outputs": [],
   "source": [
    "mul_list = detect_mul(text)\n",
    "prod_list = [compute_product(mul) for mul in mul_list]"
   ]
  },
  {
   "cell_type": "code",
   "execution_count": 23,
   "metadata": {
    "colab": {
     "base_uri": "https://localhost:8080/"
    },
    "executionInfo": {
     "elapsed": 4,
     "status": "ok",
     "timestamp": 1733962152464,
     "user": {
      "displayName": "luca tramonti",
      "userId": "04545773391778520589"
     },
     "user_tz": -60
    },
    "id": "XOPN617ZPhBo",
    "outputId": "90b5be99-05ab-4c5b-e4a9-c29c3b54a771"
   },
   "outputs": [
    {
     "name": "stdout",
     "output_type": "stream",
     "text": [
      "solution = 187825547\n"
     ]
    }
   ],
   "source": [
    "result = sum(prod_list)\n",
    "print('solution =', result)"
   ]
  },
  {
   "cell_type": "markdown",
   "metadata": {
    "id": "kI6CrVQWJZxW"
   },
   "source": [
    "**Part 2**"
   ]
  },
  {
   "cell_type": "code",
   "execution_count": 24,
   "metadata": {
    "executionInfo": {
     "elapsed": 357,
     "status": "ok",
     "timestamp": 1733962162105,
     "user": {
      "displayName": "luca tramonti",
      "userId": "04545773391778520589"
     },
     "user_tz": -60
    },
    "id": "1Q-BngIdI2v1"
   },
   "outputs": [],
   "source": [
    "def detect_mul_do_dont(text) -> list[str]:\n",
    "    result = []\n",
    "    do = True\n",
    "    for i in range(len(text)):\n",
    "        if text[i:i+4] == 'do()':\n",
    "            do = 1\n",
    "        if text[i:i+7] == \"don't()\":\n",
    "            do = False\n",
    "        if do:\n",
    "            if text[i:i+3] == 'mul':\n",
    "                check, final_index = check_parenthesis_2(text, i+3)\n",
    "                if check:\n",
    "                    result.append(text[i:final_index+1])\n",
    "    return result"
   ]
  },
  {
   "cell_type": "code",
   "execution_count": 25,
   "metadata": {
    "executionInfo": {
     "elapsed": 485,
     "status": "ok",
     "timestamp": 1733962224668,
     "user": {
      "displayName": "luca tramonti",
      "userId": "04545773391778520589"
     },
     "user_tz": -60
    },
    "id": "5P2fHLgrMuOJ"
   },
   "outputs": [],
   "source": [
    "mul_list_do = detect_mul_do_dont(text)\n",
    "prod_list_do_dont = [compute_product(mul) for mul in mul_list_do]"
   ]
  },
  {
   "cell_type": "code",
   "execution_count": 26,
   "metadata": {
    "colab": {
     "base_uri": "https://localhost:8080/"
    },
    "executionInfo": {
     "elapsed": 599,
     "status": "ok",
     "timestamp": 1733962248625,
     "user": {
      "displayName": "luca tramonti",
      "userId": "04545773391778520589"
     },
     "user_tz": -60
    },
    "id": "pxz34h5ZM9CV",
    "outputId": "05ceea1a-b5a2-4b57-d559-ee781cc1f1f7"
   },
   "outputs": [
    {
     "name": "stdout",
     "output_type": "stream",
     "text": [
      "solution = 85508223\n"
     ]
    }
   ],
   "source": [
    "result_do = sum(prod_list_do_dont)\n",
    "print('solution =', result_do)"
   ]
  },
  {
   "cell_type": "code",
   "execution_count": null,
   "metadata": {
    "id": "S32JoIYnNC3B"
   },
   "outputs": [],
   "source": []
  }
 ],
 "metadata": {
  "colab": {
   "authorship_tag": "ABX9TyP0cSZDqLlfyxNK1LiqDrLg",
   "provenance": []
  },
  "kernelspec": {
   "display_name": ".venv",
   "language": "python",
   "name": "python3"
  },
  "language_info": {
   "codemirror_mode": {
    "name": "ipython",
    "version": 3
   },
   "file_extension": ".py",
   "mimetype": "text/x-python",
   "name": "python",
   "nbconvert_exporter": "python",
   "pygments_lexer": "ipython3",
   "version": "3.13.1"
  }
 },
 "nbformat": 4,
 "nbformat_minor": 0
}
